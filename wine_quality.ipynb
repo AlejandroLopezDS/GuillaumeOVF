{
  "nbformat": 4,
  "nbformat_minor": 0,
  "metadata": {
    "colab": {
      "name": "wine_quality.ipynb",
      "provenance": [],
      "authorship_tag": "ABX9TyNllUrbDVCyXAraSsKaoMqo",
      "include_colab_link": true
    },
    "kernelspec": {
      "name": "python3",
      "display_name": "Python 3"
    },
    "language_info": {
      "name": "python"
    }
  },
  "cells": [
    {
      "cell_type": "markdown",
      "metadata": {
        "id": "view-in-github",
        "colab_type": "text"
      },
      "source": [
        "<a href=\"https://colab.research.google.com/github/guillaumeovf/CarLoanDefault/blob/main/wine_quality.ipynb\" target=\"_parent\"><img src=\"https://colab.research.google.com/assets/colab-badge.svg\" alt=\"Open In Colab\"/></a>"
      ]
    },
    {
      "cell_type": "code",
      "metadata": {
        "id": "aOdGt2qLb6SO",
        "colab": {
          "resources": {
            "http://localhost:8080/nbextensions/google.colab/files.js": {
              "data": "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",
              "ok": true,
              "headers": [
                [
                  "content-type",
                  "application/javascript"
                ]
              ],
              "status": 200,
              "status_text": ""
            }
          },
          "base_uri": "https://localhost:8080/",
          "height": 160
        },
        "outputId": "8168f3ef-1d5a-46fc-85e5-e1aba969e550"
      },
      "source": [
        "#### Here is the script to get the data directly from kaggle through colab\n",
        "\n",
        "!pip install -q kaggle\n",
        "from google.colab import files\n",
        "files.upload()\n",
        "#create a kaggle folder\n",
        "!mkdir ~/.kaggle\n",
        "\n",
        "# Go on kaggle > Account > Create New API token\n",
        "# Save the json file in your laptop in a dedicated folder\n",
        "\n",
        "# copy the kaggle.json to folder created\n",
        "!cp kaggle.json ~/.kaggle\n",
        "#permission for the json to act\n",
        "!chmod 600 ~/.kaggle/kaggle.json\n",
        "\n",
        "# Datasets available here: \n",
        "# https://www.kaggle.com/uciml/red-wine-quality-cortez-et-al-2009\n",
        "!kaggle datasets download -d uciml/red-wine-quality-cortez-et-al-2009\n",
        "!unzip red-wine-quality-cortez-et-al-2009.zip\n",
        "\n",
        "#### End of the script to get the data directly from kaggle through colab\n",
        "# Remember that when you run it, you have to click on the button Choose Files and \n",
        "# then select the kaggle.json file from your computer"
      ],
      "execution_count": 1,
      "outputs": [
        {
          "output_type": "display_data",
          "data": {
            "text/html": [
              "\n",
              "     <input type=\"file\" id=\"files-2e19b871-769c-481b-a6cc-25969db30eb8\" name=\"files[]\" multiple disabled\n",
              "        style=\"border:none\" />\n",
              "     <output id=\"result-2e19b871-769c-481b-a6cc-25969db30eb8\">\n",
              "      Upload widget is only available when the cell has been executed in the\n",
              "      current browser session. Please rerun this cell to enable.\n",
              "      </output>\n",
              "      <script src=\"/nbextensions/google.colab/files.js\"></script> "
            ],
            "text/plain": [
              "<IPython.core.display.HTML object>"
            ]
          },
          "metadata": {}
        },
        {
          "output_type": "stream",
          "name": "stdout",
          "text": [
            "Saving kaggle.json to kaggle.json\n",
            "Downloading red-wine-quality-cortez-et-al-2009.zip to /content\n",
            "  0% 0.00/25.6k [00:00<?, ?B/s]\n",
            "100% 25.6k/25.6k [00:00<00:00, 20.7MB/s]\n",
            "Archive:  red-wine-quality-cortez-et-al-2009.zip\n",
            "  inflating: winequality-red.csv     \n"
          ]
        }
      ]
    },
    {
      "cell_type": "code",
      "metadata": {
        "id": "C--nzbupvInb",
        "colab": {
          "base_uri": "https://localhost:8080/"
        },
        "outputId": "dfb14ca7-97dc-42e3-d624-892f9659503c"
      },
      "source": [
        "##### Python as a programming language basics\n",
        "\n",
        "# The usage of the hashtag represents a comment. everything on the same line and after\n",
        "# will be not take into account\n",
        "\n",
        "# If you execute the content of a cell, only the last element will be displayed\n",
        "7+3\n",
        "7-3\n",
        "7*3\n",
        "21/2\n",
        "21//2 # floor division\n",
        "21%2 # modulo\n",
        "21**2 # exponential"
      ],
      "execution_count": null,
      "outputs": [
        {
          "output_type": "execute_result",
          "data": {
            "text/plain": [
              "441"
            ]
          },
          "metadata": {},
          "execution_count": 2
        }
      ]
    },
    {
      "cell_type": "code",
      "metadata": {
        "id": "H1B7A5YMnx0-",
        "colab": {
          "base_uri": "https://localhost:8080/"
        },
        "outputId": "9db1832b-b184-4871-8cdf-3dea329be09e"
      },
      "source": [
        "# You will always want to associate a number / a result to a variable:\n",
        "gg=2 #It means that now, Python knows that the value of gg is 2\n",
        "gg==3 #Here, '==' means: Does gg is equal to 3 ? Given that you created a variable just before saying \n",
        "# that gg equals 2, Python answers that it is False because 3 is different than 2\n",
        "# However if you write gg==2, Python will reply \"True\"\n",
        "# Given that you defined the variable gg, if you gg Python will display the value 2."
      ],
      "execution_count": null,
      "outputs": [
        {
          "output_type": "execute_result",
          "data": {
            "text/plain": [
              "False"
            ]
          },
          "metadata": {},
          "execution_count": 3
        }
      ]
    },
    {
      "cell_type": "code",
      "metadata": {
        "id": "XDNFbha9n3Z_",
        "colab": {
          "base_uri": "https://localhost:8080/"
        },
        "outputId": "b3331cf8-6368-4a35-c083-a0269de56956"
      },
      "source": [
        "# Note that you can change the value of gg by defining again the variable gg:\n",
        "gg=3\n",
        "# Instead of asking Python if a variable is equals to a value, you can use inequalities:\n",
        "gg<=3\n",
        "gg>=3\n",
        "gg>3"
      ],
      "execution_count": null,
      "outputs": [
        {
          "output_type": "execute_result",
          "data": {
            "text/plain": [
              "False"
            ]
          },
          "metadata": {},
          "execution_count": 4
        }
      ]
    },
    {
      "cell_type": "code",
      "metadata": {
        "id": "oJnh0cTYwMwc"
      },
      "source": [
        "# When you define a variable, it is case sensitive. It means that the 4 names below represent \n",
        "# 4 different names\n",
        "beautiful_variable = 3\n",
        "Beautiful_variable = 4\n",
        "BEAUTIFUL_VARIABLE = 5\n",
        "BeaUtIfUL_vaRiABLe = 6"
      ],
      "execution_count": null,
      "outputs": []
    },
    {
      "cell_type": "code",
      "metadata": {
        "colab": {
          "base_uri": "https://localhost:8080/"
        },
        "id": "uWUY3lwwx2Gl",
        "outputId": "e1bfe9dd-c6e0-481f-c425-39f256a604f8"
      },
      "source": [
        "# It exists several data types in Python the most common & used is the list\n",
        "# A list is defined by elements in [] The elements can be both numeric or textual\n",
        "\n",
        "cities = ['Paris', 'Zurich', 'Rome', 'Berlin', 'London']\n",
        "\n",
        "# A list is 0 based in term of index which means that the first element of the list (Paris) is the element 0\n",
        "print(cities[0])\n",
        "# You can access the element by the end:\n",
        "print(cities[-1])\n",
        "\n",
        "# You can modify a list. Here you want to modify the third element (Rome) by Milan:\n",
        "cities[2] = 'Milan'\n",
        "print(cities)\n",
        "\n",
        "# In order to insert an element in a list: list.insert(1, element)\n",
        "# To insert HK between Zurich & Milan\n",
        "cities.insert(2, 'HK')\n",
        "print(cities)\n",
        "\n",
        "# In order to add an element at the end of the list:\n",
        "cities.append('Rio')\n",
        "print(cities)\n",
        "\n",
        "# In order to remove an element from the list:\n",
        "cities.remove('Paris')\n",
        "print(cities)\n",
        "\n",
        "# In this list we only have textual elements, we can add some numerical one:\n",
        "cities.insert(2, 848)\n",
        "print(cities)\n",
        "cities.append(848)\n",
        "print(cities)\n",
        "# You can see that we have 2 values of 848 in our list. The remove function only remove the \n",
        "# first time Python see the value:\n",
        "cities.remove(848)\n",
        "print(cities)\n",
        "# We will see later how to delete all the values 848.\n",
        "\n",
        "# If you want to access the index (= the position) of an element in the list:\n",
        "print(cities.index(\"HK\"))\n",
        "\n",
        "# If you want to concatenate 2 lists:\n",
        "new_list = [1, 3, 5, 2]\n",
        "cities = cities + new_list\n",
        "print(cities)\n",
        "\n",
        "# There are other types than list, such as tuple & dictionnary.\n",
        "# Keep in mind that list are defined by [], if you use (), it will be a tuple."
      ],
      "execution_count": null,
      "outputs": [
        {
          "output_type": "stream",
          "name": "stdout",
          "text": [
            "Paris\n",
            "London\n",
            "['Paris', 'Zurich', 'Milan', 'Berlin', 'London']\n",
            "['Paris', 'Zurich', 'HK', 'Milan', 'Berlin', 'London']\n",
            "['Paris', 'Zurich', 'HK', 'Milan', 'Berlin', 'London', 'Rio']\n",
            "['Zurich', 'HK', 'Milan', 'Berlin', 'London', 'Rio']\n",
            "['Zurich', 'HK', 848, 'Milan', 'Berlin', 'London', 'Rio']\n",
            "['Zurich', 'HK', 848, 'Milan', 'Berlin', 'London', 'Rio', 848]\n",
            "['Zurich', 'HK', 'Milan', 'Berlin', 'London', 'Rio', 848]\n",
            "1\n",
            "['Zurich', 'HK', 'Milan', 'Berlin', 'London', 'Rio', 848, 1, 3, 5, 2]\n"
          ]
        }
      ]
    },
    {
      "cell_type": "code",
      "metadata": {
        "id": "uJg_XQPioe_4",
        "colab": {
          "base_uri": "https://localhost:8080/"
        },
        "outputId": "507ad55b-21eb-48ac-f941-0b7fc680576d"
      },
      "source": [
        "### Conditional statements:\n",
        "# The global idea is to do an action based on a current state\n",
        "val = 0 # Here the current state is that the variable val has the value 0\n",
        "if val > 0:\n",
        "  print('The value is positive')\n",
        "elif val < 0:\n",
        "  print('The value is negative')\n",
        "elif val<-10:\n",
        "  print('very low')\n",
        "else:\n",
        "  print('The value equals 0')\n",
        "\n",
        "# It is very important to understand the chain, on the previous example, if you replace val=0 by \n",
        "# val = -12, the statement will return 'The value is negative' because it fits the condition val<0.\n",
        "# You have to switch val < 0 and val <-10 like this:\n",
        "val=0\n",
        "if val > 0:\n",
        "  print('The value is positive')\n",
        "elif val < -10:\n",
        "  print('The value is very low')\n",
        "elif val<0:\n",
        "  print('The value is negative')\n",
        "else:\n",
        "  print('The value equals 0')\n",
        "\n",
        "# Be careful, the indentation is important !!!\n",
        "\n",
        "# Logical expressions for if:\n",
        "# a == b: is a equal to b\n",
        "# a != b: is a different from b\n",
        "# a <= b: is a lower or equal than b\n",
        "# a >= b: is a greater or equal than b\n",
        "# a < b: is a strictly lower than b\n",
        "# a > b: is a strictly greater than b\n",
        "# a is b: is a the same object as b\n",
        "# condition_a and condition_b: logical AND\n",
        "# condition_a or condition_b: logical OR\n",
        "# not: negation\n",
        "\n",
        "if 7 not in [0, 1, 2, 3, 4]:\n",
        "  print('Indeed')\n",
        "\n",
        "# Of course, in the real life, you will do more advanced condition that just display a print after a condition."
      ],
      "execution_count": null,
      "outputs": [
        {
          "output_type": "stream",
          "name": "stdout",
          "text": [
            "The value equals 0\n",
            "The value equals 0\n",
            "Indeed\n"
          ]
        }
      ]
    },
    {
      "cell_type": "code",
      "metadata": {
        "id": "7suhub39ogch",
        "colab": {
          "base_uri": "https://localhost:8080/"
        },
        "outputId": "a40226cd-1947-4821-f1d6-627b6f272835"
      },
      "source": [
        "### Loop\n",
        "# while loop: loop until the condition happened -> can run to the infinity\n",
        "# Ex while loop\n",
        "N=15\n",
        "total = 0\n",
        "counter = 1\n",
        "while counter <= N:\n",
        "  total += counter # total = total+counter\n",
        "  counter += 1\n",
        "  print(total)\n",
        "\n",
        "\n",
        "\n",
        "# for loop (most used): loop on all the defined elements of an object.\n",
        "# Ex for loop\n",
        "fruits = ['apple', 'pear', 'cherry']\n",
        "for i in fruits:\n",
        "  print(i)\n",
        "\n",
        "# It is as well possible to do a loop within a loop (a nested loop):\n",
        "list_of_list = [['a', 'b', 'c'], [1, 2, 3]]\n",
        "for sub_list in list_of_list:\n",
        "  print(\"We treat the list: \", sub_list)\n",
        "  for element in sub_list:\n",
        "    print('We display the element: ', element)\n",
        "\n"
      ],
      "execution_count": null,
      "outputs": [
        {
          "output_type": "stream",
          "name": "stdout",
          "text": [
            "1\n",
            "3\n",
            "6\n",
            "10\n",
            "15\n",
            "21\n",
            "28\n",
            "36\n",
            "45\n",
            "55\n",
            "66\n",
            "78\n",
            "91\n",
            "105\n",
            "120\n",
            "apple\n",
            "pear\n",
            "cherry\n",
            "We treat the list:  ['a', 'b', 'c']\n",
            "We display the element:  a\n",
            "We display the element:  b\n",
            "We display the element:  c\n",
            "We treat the list:  [1, 2, 3]\n",
            "We display the element:  1\n",
            "We display the element:  2\n",
            "We display the element:  3\n"
          ]
        }
      ]
    },
    {
      "cell_type": "code",
      "metadata": {
        "id": "e0WCbjRzopS-",
        "colab": {
          "base_uri": "https://localhost:8080/"
        },
        "outputId": "515e992b-75b3-4a28-8815-af5f2b25eded"
      },
      "source": [
        "### Functions\n",
        "# Obj: automate an action composed by several instructions\n",
        "# The keyword def introduces the definition of a function\n",
        "# It is followed by the name of the function and a series of parameters in parenthesis\n",
        "# It is possible to define a function without entry parameters\n",
        "# The instructions constituing the body of the function starts at the next line and must have an identation\n",
        "# Instruction return causes the function to be removes by returning a value. Return without expression gives None\n",
        "\n",
        "def area(length, width):\n",
        "  ''' Function calculating the area of a rectangle\n",
        "  Parameters:\n",
        "  length: TYPE float\n",
        "    Measure of the length of a rectangle\n",
        "  width: TYPE float\n",
        "    Measure the width of a rectangle\n",
        "\n",
        "  Return:\n",
        "    area: TYPE float\n",
        "  '''\n",
        "  my_area = length * width\n",
        "\n",
        "  return my_area\n",
        "\n",
        "area(11,4)\n",
        "\n",
        "# Within a function, we can put all kind of instructions, create all kind of objects\n",
        "# Note that the content within the 3 apostrophies is a second way to write some comments.\n",
        "# It is a good practice in order to describe a function."
      ],
      "execution_count": null,
      "outputs": [
        {
          "output_type": "execute_result",
          "data": {
            "text/plain": [
              "44"
            ]
          },
          "metadata": {},
          "execution_count": 9
        }
      ]
    },
    {
      "cell_type": "code",
      "metadata": {
        "id": "fBUgTx61ou6C",
        "colab": {
          "base_uri": "https://localhost:8080/"
        },
        "outputId": "fb869214-2f31-4028-8626-4489282c248d"
      },
      "source": [
        "# To close the chapter on Python basics, there is another way to write a for loop\n",
        "# We will use it in order to delete all the element of a list having a particular value:\n",
        "last_list = [0, 1, 2, 3, 4, 5, 888, 6, 7, 888, 8, 888, 9] # Let's delete all the 888\n",
        "\n",
        "valueToBeRemoved = 888\n",
        "last_list = [value for value in last_list if value != valueToBeRemoved] \n",
        "#of course, you can replace 'value' by what you want, it is the equivalent of i\n",
        "print(last_list)\n",
        "\n",
        "\n",
        "###\n",
        "### End of Python Basics"
      ],
      "execution_count": null,
      "outputs": [
        {
          "output_type": "stream",
          "name": "stdout",
          "text": [
            "[0, 1, 2, 3, 4, 5, 6, 7, 8, 9]\n"
          ]
        }
      ]
    },
    {
      "cell_type": "code",
      "metadata": {
        "id": "9K93mdR0o4-p"
      },
      "source": [
        "### Start of pandas and numpy\n",
        "import pandas as pd # Here I import a library named pandas which is specialized in\n",
        "# data manipulation. I give an alias pd it is a kind of pseudonyme where pd refers to pandas.\n",
        "import numpy as np\n",
        "df = pd.read_csv('/content/winequality-red.csv')\n",
        "# Here I use the function read_csv from the pandas package and I assign it to a database named df.\n",
        "# There is a lot of possible parameters in the read_csv function: Always check the documentation.\n",
        "# https://pandas.pydata.org/docs/reference/api/pandas.read_csv.html\n",
        "\n",
        "# Here df is a database, I will call it as well a dataframe\n"
      ],
      "execution_count": 2,
      "outputs": []
    },
    {
      "cell_type": "code",
      "metadata": {
        "id": "ao3eyuZto5Bf",
        "colab": {
          "base_uri": "https://localhost:8080/",
          "height": 258
        },
        "outputId": "6ffdde26-a856-4ce7-ad21-aa451f68413d"
      },
      "source": [
        "# You can have a look on the first lines:\n",
        "df.head() #You can specify a number in the parenthesis in order to see a specific number of lines\n",
        "df.tail() # It shows the last lines"
      ],
      "execution_count": null,
      "outputs": [
        {
          "output_type": "execute_result",
          "data": {
            "text/html": [
              "<div>\n",
              "<style scoped>\n",
              "    .dataframe tbody tr th:only-of-type {\n",
              "        vertical-align: middle;\n",
              "    }\n",
              "\n",
              "    .dataframe tbody tr th {\n",
              "        vertical-align: top;\n",
              "    }\n",
              "\n",
              "    .dataframe thead th {\n",
              "        text-align: right;\n",
              "    }\n",
              "</style>\n",
              "<table border=\"1\" class=\"dataframe\">\n",
              "  <thead>\n",
              "    <tr style=\"text-align: right;\">\n",
              "      <th></th>\n",
              "      <th>fixed acidity</th>\n",
              "      <th>volatile acidity</th>\n",
              "      <th>citric acid</th>\n",
              "      <th>residual sugar</th>\n",
              "      <th>chlorides</th>\n",
              "      <th>free sulfur dioxide</th>\n",
              "      <th>total sulfur dioxide</th>\n",
              "      <th>density</th>\n",
              "      <th>pH</th>\n",
              "      <th>sulphates</th>\n",
              "      <th>alcohol</th>\n",
              "      <th>quality</th>\n",
              "    </tr>\n",
              "  </thead>\n",
              "  <tbody>\n",
              "    <tr>\n",
              "      <th>1594</th>\n",
              "      <td>6.2</td>\n",
              "      <td>0.600</td>\n",
              "      <td>0.08</td>\n",
              "      <td>2.0</td>\n",
              "      <td>0.090</td>\n",
              "      <td>32.0</td>\n",
              "      <td>44.0</td>\n",
              "      <td>0.99490</td>\n",
              "      <td>3.45</td>\n",
              "      <td>0.58</td>\n",
              "      <td>10.5</td>\n",
              "      <td>5</td>\n",
              "    </tr>\n",
              "    <tr>\n",
              "      <th>1595</th>\n",
              "      <td>5.9</td>\n",
              "      <td>0.550</td>\n",
              "      <td>0.10</td>\n",
              "      <td>2.2</td>\n",
              "      <td>0.062</td>\n",
              "      <td>39.0</td>\n",
              "      <td>51.0</td>\n",
              "      <td>0.99512</td>\n",
              "      <td>3.52</td>\n",
              "      <td>0.76</td>\n",
              "      <td>11.2</td>\n",
              "      <td>6</td>\n",
              "    </tr>\n",
              "    <tr>\n",
              "      <th>1596</th>\n",
              "      <td>6.3</td>\n",
              "      <td>0.510</td>\n",
              "      <td>0.13</td>\n",
              "      <td>2.3</td>\n",
              "      <td>0.076</td>\n",
              "      <td>29.0</td>\n",
              "      <td>40.0</td>\n",
              "      <td>0.99574</td>\n",
              "      <td>3.42</td>\n",
              "      <td>0.75</td>\n",
              "      <td>11.0</td>\n",
              "      <td>6</td>\n",
              "    </tr>\n",
              "    <tr>\n",
              "      <th>1597</th>\n",
              "      <td>5.9</td>\n",
              "      <td>0.645</td>\n",
              "      <td>0.12</td>\n",
              "      <td>2.0</td>\n",
              "      <td>0.075</td>\n",
              "      <td>32.0</td>\n",
              "      <td>44.0</td>\n",
              "      <td>0.99547</td>\n",
              "      <td>3.57</td>\n",
              "      <td>0.71</td>\n",
              "      <td>10.2</td>\n",
              "      <td>5</td>\n",
              "    </tr>\n",
              "    <tr>\n",
              "      <th>1598</th>\n",
              "      <td>6.0</td>\n",
              "      <td>0.310</td>\n",
              "      <td>0.47</td>\n",
              "      <td>3.6</td>\n",
              "      <td>0.067</td>\n",
              "      <td>18.0</td>\n",
              "      <td>42.0</td>\n",
              "      <td>0.99549</td>\n",
              "      <td>3.39</td>\n",
              "      <td>0.66</td>\n",
              "      <td>11.0</td>\n",
              "      <td>6</td>\n",
              "    </tr>\n",
              "  </tbody>\n",
              "</table>\n",
              "</div>"
            ],
            "text/plain": [
              "      fixed acidity  volatile acidity  citric acid  ...  sulphates  alcohol  quality\n",
              "1594            6.2             0.600         0.08  ...       0.58     10.5        5\n",
              "1595            5.9             0.550         0.10  ...       0.76     11.2        6\n",
              "1596            6.3             0.510         0.13  ...       0.75     11.0        6\n",
              "1597            5.9             0.645         0.12  ...       0.71     10.2        5\n",
              "1598            6.0             0.310         0.47  ...       0.66     11.0        6\n",
              "\n",
              "[5 rows x 12 columns]"
            ]
          },
          "metadata": {},
          "execution_count": 12
        }
      ]
    },
    {
      "cell_type": "code",
      "metadata": {
        "id": "btG5H0HOo5FI",
        "colab": {
          "base_uri": "https://localhost:8080/"
        },
        "outputId": "5da8da5e-d604-4be1-b017-88c63db9b885"
      },
      "source": [
        "# List of useful functions to have general overview on the dataframe:\n",
        "df.dtypes # To see the type of each feature\n",
        "df.describe() # To have some descriptive statistics\n",
        "df.info() # Same as dtypes + more information such as the number of non missing values\n",
        "df.shape # In order to have the number of lines and columns of the dataframe\n",
        "len(df) # In order to have the number of lines\n"
      ],
      "execution_count": null,
      "outputs": [
        {
          "output_type": "stream",
          "name": "stdout",
          "text": [
            "<class 'pandas.core.frame.DataFrame'>\n",
            "RangeIndex: 1599 entries, 0 to 1598\n",
            "Data columns (total 12 columns):\n",
            " #   Column                Non-Null Count  Dtype  \n",
            "---  ------                --------------  -----  \n",
            " 0   fixed acidity         1599 non-null   float64\n",
            " 1   volatile acidity      1599 non-null   float64\n",
            " 2   citric acid           1599 non-null   float64\n",
            " 3   residual sugar        1599 non-null   float64\n",
            " 4   chlorides             1599 non-null   float64\n",
            " 5   free sulfur dioxide   1599 non-null   float64\n",
            " 6   total sulfur dioxide  1599 non-null   float64\n",
            " 7   density               1599 non-null   float64\n",
            " 8   pH                    1599 non-null   float64\n",
            " 9   sulphates             1599 non-null   float64\n",
            " 10  alcohol               1599 non-null   float64\n",
            " 11  quality               1599 non-null   int64  \n",
            "dtypes: float64(11), int64(1)\n",
            "memory usage: 150.0 KB\n"
          ]
        },
        {
          "output_type": "execute_result",
          "data": {
            "text/plain": [
              "1599"
            ]
          },
          "metadata": {},
          "execution_count": 13
        }
      ]
    },
    {
      "cell_type": "code",
      "metadata": {
        "id": "oii8oXCyo5IR",
        "colab": {
          "base_uri": "https://localhost:8080/",
          "height": 111
        },
        "outputId": "3db14bfb-c64c-4d33-e97d-88312d12e8c4"
      },
      "source": [
        "### Now let's do some data manipulation\n",
        "# Select a column:\n",
        "df['fixed acidity'].head(2) # If you select 1 feature: dataframe['name_feature']\n",
        "# Select multiple columns\n",
        "df[['fixed acidity', 'volatile acidity']].head(2) \n",
        "# If you select 2 or more features: dataframe[['feature1', 'feature2']]"
      ],
      "execution_count": null,
      "outputs": [
        {
          "output_type": "execute_result",
          "data": {
            "text/html": [
              "<div>\n",
              "<style scoped>\n",
              "    .dataframe tbody tr th:only-of-type {\n",
              "        vertical-align: middle;\n",
              "    }\n",
              "\n",
              "    .dataframe tbody tr th {\n",
              "        vertical-align: top;\n",
              "    }\n",
              "\n",
              "    .dataframe thead th {\n",
              "        text-align: right;\n",
              "    }\n",
              "</style>\n",
              "<table border=\"1\" class=\"dataframe\">\n",
              "  <thead>\n",
              "    <tr style=\"text-align: right;\">\n",
              "      <th></th>\n",
              "      <th>fixed acidity</th>\n",
              "      <th>volatile acidity</th>\n",
              "    </tr>\n",
              "  </thead>\n",
              "  <tbody>\n",
              "    <tr>\n",
              "      <th>0</th>\n",
              "      <td>7.4</td>\n",
              "      <td>0.70</td>\n",
              "    </tr>\n",
              "    <tr>\n",
              "      <th>1</th>\n",
              "      <td>7.8</td>\n",
              "      <td>0.88</td>\n",
              "    </tr>\n",
              "  </tbody>\n",
              "</table>\n",
              "</div>"
            ],
            "text/plain": [
              "   fixed acidity  volatile acidity\n",
              "0            7.4              0.70\n",
              "1            7.8              0.88"
            ]
          },
          "metadata": {},
          "execution_count": 14
        }
      ]
    },
    {
      "cell_type": "code",
      "metadata": {
        "id": "cqpIcEfMo5K-",
        "colab": {
          "base_uri": "https://localhost:8080/"
        },
        "outputId": "5f6ec71c-ed42-42a7-93d1-98f78800f4a5"
      },
      "source": [
        "# Now, let's do some filters -> select lines from a condition\n",
        "mask1 = df['fixed acidity'] >7 # As we saw in the Python basics part, df['fixed acidity'] >7\n",
        "# refers to a question, does the value (here, each line) is >7 ; True or False\n",
        "# You can display mask1 to see how it is composed, you will see it is a list of boolean.\n",
        "df[mask1].min() # Then, we integreate the list of boulean in: dataframe[list_boolean]\n",
        "# The output is only composed by values >7 that we can check with the .min() function.\n",
        "\n",
        "# You are not obliged to create a mask, you can directly write the condition within:\n",
        "df[df['fixed acidity'] >7]\n",
        "\n",
        "# You can check that indeed the output are exactly the same:\n",
        "df[mask1] == df[df['fixed acidity'] >7]\n",
        "\n",
        "# If you want to select a part of the population between 2 values:\n",
        "mask2 = df['fixed acidity'].between(7,8)\n",
        "# https://pandas.pydata.org/docs/reference/api/pandas.Series.between.html\n",
        "\n",
        "df[mask2].min()\n",
        "df[mask2]['fixed acidity'].min()\n",
        "df[mask2][['fixed acidity', 'density']].min()\n",
        "\n",
        "# If you want to do several conditions, the '&' means 'and' ; the '|' means 'or'\n",
        "\n",
        "# Here I want the residual sugars <= 1.9 or >= 2.3 , and sulphates < 0.7301\n",
        "mask3 = (((df['residual sugar'] >= 2.3) | (df['residual sugar'] <= 1.9)) & (df['sulphates'] < 0.7301))\n",
        "df[mask3].describe()\n",
        "\n",
        "# Keep in mind, you have to associate line of script to a variable/object however it\n",
        "# is not saved in memory\n",
        "len(df)\n",
        "df2 = df[mask3]\n",
        "len(df2)"
      ],
      "execution_count": null,
      "outputs": [
        {
          "output_type": "execute_result",
          "data": {
            "text/plain": [
              "893"
            ]
          },
          "metadata": {},
          "execution_count": 15
        }
      ]
    },
    {
      "cell_type": "code",
      "metadata": {
        "id": "G8LKXF9-o5Nz"
      },
      "source": [
        "# Here I create a function having the name citric_acid_cat with the parameter x\n",
        "# In the function, x will pass within a conditional statement. Given the value,\n",
        "# it will return a letter (a category):\n",
        "def citric_acid_cat(x):\n",
        "  if x < 0.21 :\n",
        "    return 'A'\n",
        "  elif x < 0.3 :\n",
        "    return 'B'\n",
        "  else:\n",
        "    return 'C'\n",
        "\n",
        "# Now we want to create a new feature citric_cat, which transform the numerical value\n",
        "# of citric acid to the category defined above for each line of the feature.\n",
        "# We could create a for loop. However the apply lambda is more efficient from a computing point of view \n",
        "# The x refers to the x of the function which is df['citric acid']\n",
        "df['citric_cat'] = df['citric acid'].apply(lambda x: citric_acid_cat(x))"
      ],
      "execution_count": null,
      "outputs": []
    },
    {
      "cell_type": "code",
      "metadata": {
        "id": "SpJ25hxcpZC8",
        "colab": {
          "base_uri": "https://localhost:8080/",
          "height": 473
        },
        "outputId": "934dc908-00fc-40c5-a647-ed0d0bc9314d"
      },
      "source": [
        "# When you do a mask, it is not only on numerical features but as well on categoricals:\n",
        "mask5 = (((df['residual sugar'] >= 2.3) | (df['residual sugar'] <= 1.9)) & (df['sulphates'] < 0.7301) & (df['citric_cat'] == 'A'))\n",
        "df[mask5]\n",
        "# On this example, I want to focus only on the category A so it is quick to write.\n",
        "# However it is not always the case and you can filter through a list:\n",
        "\n",
        "list_cat_to_keep = ['A', 'C']\n",
        "mask6 = (((df['residual sugar'] >= 2.3) | (df['residual sugar'] <= 1.9)) & (df['sulphates'] < 0.7301) & (df['citric_cat'].isin(list_cat_to_keep)))\n",
        "df[mask6]\n",
        "# dataframe['feature'].isin(list_specified) creates the list (the pandas Series to be precise) of boolean\n",
        "\n",
        "# To finish, you could want all the element of a feature execpt those that you specify in a list.\n",
        "# Let's say, you want to analyse all the citri_cat that are not in the list (here the cat=B)\n",
        "# You can use: ~dataframe['feature'].isin(list_specified) // The '~' means not isin:\n",
        "mask7 = (((df['residual sugar'] >= 2.3) | (df['residual sugar'] <= 1.9)) & (df['sulphates'] < 0.7301) & (~df['citric_cat'].isin(list_cat_to_keep)))\n",
        "df[mask7] #As you see, you only have the category 'B' of citric_cat.\n"
      ],
      "execution_count": null,
      "outputs": [
        {
          "output_type": "execute_result",
          "data": {
            "text/html": [
              "<div>\n",
              "<style scoped>\n",
              "    .dataframe tbody tr th:only-of-type {\n",
              "        vertical-align: middle;\n",
              "    }\n",
              "\n",
              "    .dataframe tbody tr th {\n",
              "        vertical-align: top;\n",
              "    }\n",
              "\n",
              "    .dataframe thead th {\n",
              "        text-align: right;\n",
              "    }\n",
              "</style>\n",
              "<table border=\"1\" class=\"dataframe\">\n",
              "  <thead>\n",
              "    <tr style=\"text-align: right;\">\n",
              "      <th></th>\n",
              "      <th>fixed acidity</th>\n",
              "      <th>volatile acidity</th>\n",
              "      <th>citric acid</th>\n",
              "      <th>residual sugar</th>\n",
              "      <th>chlorides</th>\n",
              "      <th>free sulfur dioxide</th>\n",
              "      <th>total sulfur dioxide</th>\n",
              "      <th>density</th>\n",
              "      <th>pH</th>\n",
              "      <th>sulphates</th>\n",
              "      <th>alcohol</th>\n",
              "      <th>quality</th>\n",
              "      <th>citric_cat</th>\n",
              "    </tr>\n",
              "  </thead>\n",
              "  <tbody>\n",
              "    <tr>\n",
              "      <th>26</th>\n",
              "      <td>7.6</td>\n",
              "      <td>0.41</td>\n",
              "      <td>0.24</td>\n",
              "      <td>1.8</td>\n",
              "      <td>0.080</td>\n",
              "      <td>4.0</td>\n",
              "      <td>11.0</td>\n",
              "      <td>0.99620</td>\n",
              "      <td>3.28</td>\n",
              "      <td>0.59</td>\n",
              "      <td>9.500000</td>\n",
              "      <td>5</td>\n",
              "      <td>B</td>\n",
              "    </tr>\n",
              "    <tr>\n",
              "      <th>34</th>\n",
              "      <td>5.2</td>\n",
              "      <td>0.32</td>\n",
              "      <td>0.25</td>\n",
              "      <td>1.8</td>\n",
              "      <td>0.103</td>\n",
              "      <td>13.0</td>\n",
              "      <td>50.0</td>\n",
              "      <td>0.99570</td>\n",
              "      <td>3.38</td>\n",
              "      <td>0.55</td>\n",
              "      <td>9.200000</td>\n",
              "      <td>5</td>\n",
              "      <td>B</td>\n",
              "    </tr>\n",
              "    <tr>\n",
              "      <th>48</th>\n",
              "      <td>6.4</td>\n",
              "      <td>0.40</td>\n",
              "      <td>0.23</td>\n",
              "      <td>1.6</td>\n",
              "      <td>0.066</td>\n",
              "      <td>5.0</td>\n",
              "      <td>12.0</td>\n",
              "      <td>0.99580</td>\n",
              "      <td>3.34</td>\n",
              "      <td>0.56</td>\n",
              "      <td>9.200000</td>\n",
              "      <td>5</td>\n",
              "      <td>B</td>\n",
              "    </tr>\n",
              "    <tr>\n",
              "      <th>72</th>\n",
              "      <td>7.7</td>\n",
              "      <td>0.69</td>\n",
              "      <td>0.22</td>\n",
              "      <td>1.9</td>\n",
              "      <td>0.084</td>\n",
              "      <td>18.0</td>\n",
              "      <td>94.0</td>\n",
              "      <td>0.99610</td>\n",
              "      <td>3.31</td>\n",
              "      <td>0.48</td>\n",
              "      <td>9.500000</td>\n",
              "      <td>5</td>\n",
              "      <td>B</td>\n",
              "    </tr>\n",
              "    <tr>\n",
              "      <th>87</th>\n",
              "      <td>7.7</td>\n",
              "      <td>0.49</td>\n",
              "      <td>0.26</td>\n",
              "      <td>1.9</td>\n",
              "      <td>0.062</td>\n",
              "      <td>9.0</td>\n",
              "      <td>31.0</td>\n",
              "      <td>0.99660</td>\n",
              "      <td>3.39</td>\n",
              "      <td>0.64</td>\n",
              "      <td>9.600000</td>\n",
              "      <td>5</td>\n",
              "      <td>B</td>\n",
              "    </tr>\n",
              "    <tr>\n",
              "      <th>...</th>\n",
              "      <td>...</td>\n",
              "      <td>...</td>\n",
              "      <td>...</td>\n",
              "      <td>...</td>\n",
              "      <td>...</td>\n",
              "      <td>...</td>\n",
              "      <td>...</td>\n",
              "      <td>...</td>\n",
              "      <td>...</td>\n",
              "      <td>...</td>\n",
              "      <td>...</td>\n",
              "      <td>...</td>\n",
              "      <td>...</td>\n",
              "    </tr>\n",
              "    <tr>\n",
              "      <th>1493</th>\n",
              "      <td>7.7</td>\n",
              "      <td>0.54</td>\n",
              "      <td>0.26</td>\n",
              "      <td>1.9</td>\n",
              "      <td>0.089</td>\n",
              "      <td>23.0</td>\n",
              "      <td>147.0</td>\n",
              "      <td>0.99636</td>\n",
              "      <td>3.26</td>\n",
              "      <td>0.59</td>\n",
              "      <td>9.700000</td>\n",
              "      <td>5</td>\n",
              "      <td>B</td>\n",
              "    </tr>\n",
              "    <tr>\n",
              "      <th>1496</th>\n",
              "      <td>7.7</td>\n",
              "      <td>0.54</td>\n",
              "      <td>0.26</td>\n",
              "      <td>1.9</td>\n",
              "      <td>0.089</td>\n",
              "      <td>23.0</td>\n",
              "      <td>147.0</td>\n",
              "      <td>0.99636</td>\n",
              "      <td>3.26</td>\n",
              "      <td>0.59</td>\n",
              "      <td>9.700000</td>\n",
              "      <td>5</td>\n",
              "      <td>B</td>\n",
              "    </tr>\n",
              "    <tr>\n",
              "      <th>1501</th>\n",
              "      <td>7.8</td>\n",
              "      <td>0.82</td>\n",
              "      <td>0.29</td>\n",
              "      <td>4.3</td>\n",
              "      <td>0.083</td>\n",
              "      <td>21.0</td>\n",
              "      <td>64.0</td>\n",
              "      <td>0.99642</td>\n",
              "      <td>3.16</td>\n",
              "      <td>0.53</td>\n",
              "      <td>9.400000</td>\n",
              "      <td>5</td>\n",
              "      <td>B</td>\n",
              "    </tr>\n",
              "    <tr>\n",
              "      <th>1514</th>\n",
              "      <td>6.9</td>\n",
              "      <td>0.84</td>\n",
              "      <td>0.21</td>\n",
              "      <td>4.1</td>\n",
              "      <td>0.074</td>\n",
              "      <td>16.0</td>\n",
              "      <td>65.0</td>\n",
              "      <td>0.99842</td>\n",
              "      <td>3.53</td>\n",
              "      <td>0.72</td>\n",
              "      <td>9.233333</td>\n",
              "      <td>6</td>\n",
              "      <td>B</td>\n",
              "    </tr>\n",
              "    <tr>\n",
              "      <th>1515</th>\n",
              "      <td>6.9</td>\n",
              "      <td>0.84</td>\n",
              "      <td>0.21</td>\n",
              "      <td>4.1</td>\n",
              "      <td>0.074</td>\n",
              "      <td>16.0</td>\n",
              "      <td>65.0</td>\n",
              "      <td>0.99842</td>\n",
              "      <td>3.53</td>\n",
              "      <td>0.72</td>\n",
              "      <td>9.250000</td>\n",
              "      <td>6</td>\n",
              "      <td>B</td>\n",
              "    </tr>\n",
              "  </tbody>\n",
              "</table>\n",
              "<p>143 rows × 13 columns</p>\n",
              "</div>"
            ],
            "text/plain": [
              "      fixed acidity  volatile acidity  ...  quality  citric_cat\n",
              "26              7.6              0.41  ...        5           B\n",
              "34              5.2              0.32  ...        5           B\n",
              "48              6.4              0.40  ...        5           B\n",
              "72              7.7              0.69  ...        5           B\n",
              "87              7.7              0.49  ...        5           B\n",
              "...             ...               ...  ...      ...         ...\n",
              "1493            7.7              0.54  ...        5           B\n",
              "1496            7.7              0.54  ...        5           B\n",
              "1501            7.8              0.82  ...        5           B\n",
              "1514            6.9              0.84  ...        6           B\n",
              "1515            6.9              0.84  ...        6           B\n",
              "\n",
              "[143 rows x 13 columns]"
            ]
          },
          "metadata": {},
          "execution_count": 17
        }
      ]
    },
    {
      "cell_type": "code",
      "metadata": {
        "id": "JeKIFUnipZFw"
      },
      "source": [
        ""
      ],
      "execution_count": null,
      "outputs": []
    },
    {
      "cell_type": "code",
      "metadata": {
        "id": "HK77exMwo5Qu"
      },
      "source": [
        ""
      ],
      "execution_count": null,
      "outputs": []
    },
    {
      "cell_type": "code",
      "metadata": {
        "colab": {
          "base_uri": "https://localhost:8080/"
        },
        "id": "IH6nO6bJx2Is",
        "outputId": "6b7ed198-7e7d-4b9c-c236-c7ed06a43afa"
      },
      "source": [
        "# Conditions, loops and functions\n",
        "val=0\n",
        "if val > 0:\n",
        "  print('The value is positive')\n",
        "elif val < 0:\n",
        "  print('The value is negative')\n",
        "else:\n",
        "  print('The value equals 0')\n",
        "\n",
        "# Logical expressions for if:\n",
        "# a == b: is a equal to b\n",
        "# a != b: is a different from b\n",
        "# a <= b: is a lower or equal than b\n",
        "# a >= b: is a greater or equal than b\n",
        "# a < b: is a strictly lower than b\n",
        "# a > b: is a strictly greater than b\n",
        "# a is b: is a the same object as b\n",
        "# condition_a and condition_b: logical AND\n",
        "# condition_a or condition_b: logical OR\n",
        "# not: negation\n",
        "\n",
        "if 7 not in [0, 1, 2, 3, 4]:\n",
        "  print('Indeed')\n",
        "\n",
        "# while loop: loop until the condition happened -> can run to the infinity\n",
        "# for loop: loop with fixed number of time\n",
        "\n",
        "# Ex: while loop\n",
        "N=15\n",
        "total = 0\n",
        "counter = 1\n",
        "while counter <= N:\n",
        "  total += counter # total = total+counter\n",
        "  counter += 1\n",
        "  print(total)\n",
        "\n",
        "print(total)\n",
        "\n",
        "# Ex: for loop -> Be careful of the indentation\n",
        "fruits = ['apple', 'pear', 'cherry']\n",
        "for i in fruits:\n",
        "  print(i)\n",
        "\n",
        "# Nested loop: a loop within a loop\n",
        "list_of_list = [['a', 'b', 'c'], [1, 2, 3]]\n",
        "for sub_list in list_of_list:\n",
        "  print(\"We treat the list: \", sub_list)\n",
        "  for element in sub_list:\n",
        "    print('We display the element: ', element)\n",
        "\n",
        "# Functions:\n",
        "# Obj: automate an action composed by several instructions\n",
        "# The keyword def introduces the definition of a function\n",
        "# It is followed by the name of the function and a series of parameters in parenthesis\n",
        "# It is possible to define a function without entry parameters\n",
        "# The instructions constituing the body of the function starts at the next line and must have an identation\n",
        "# Instruction return causes the function to be removes by returning a value. Return without expression gives None\n",
        "def area(length, width):\n",
        "  ''' Function calculating the area of a rectangle\n",
        "  Parameters:\n",
        "  length: TYPE float\n",
        "    Measure of the length of a rectangle\n",
        "  width: TYPE float\n",
        "    Measure the width of a rectangle\n",
        "\n",
        "  Return:\n",
        "    area: TYPE float\n",
        "  '''\n",
        "  my_area = length * width\n",
        "\n",
        "  return my_area\n",
        "\n",
        "area(11,4)\n",
        "\n",
        "# Within a function, we can put all kind of instructions, create all kind of objects"
      ],
      "execution_count": null,
      "outputs": [
        {
          "output_type": "stream",
          "name": "stdout",
          "text": [
            "The value equals 0\n",
            "Indeed\n",
            "1\n",
            "3\n",
            "6\n",
            "10\n",
            "15\n",
            "21\n",
            "28\n",
            "36\n",
            "45\n",
            "55\n",
            "66\n",
            "78\n",
            "91\n",
            "105\n",
            "120\n",
            "120\n",
            "apple\n",
            "pear\n",
            "cherry\n",
            "We treat the list:  ['a', 'b', 'c']\n",
            "We display the element:  a\n",
            "We display the element:  b\n",
            "We display the element:  c\n",
            "We treat the list:  [1, 2, 3]\n",
            "We display the element:  1\n",
            "We display the element:  2\n",
            "We display the element:  3\n"
          ]
        },
        {
          "output_type": "execute_result",
          "data": {
            "text/plain": [
              "44"
            ]
          },
          "metadata": {},
          "execution_count": 6
        }
      ]
    },
    {
      "cell_type": "code",
      "metadata": {
        "id": "wuavXvlyMx-c"
      },
      "source": [
        ""
      ],
      "execution_count": null,
      "outputs": []
    },
    {
      "cell_type": "code",
      "metadata": {
        "id": "-PQb4TdKdW3m"
      },
      "source": [
        "import pandas as pd\n",
        "import numpy as np\n",
        "df = pd.read_csv('/content/winequality-red.csv')"
      ],
      "execution_count": 5,
      "outputs": []
    },
    {
      "cell_type": "code",
      "metadata": {
        "colab": {
          "base_uri": "https://localhost:8080/",
          "height": 204
        },
        "id": "XUb2FlSgwekE",
        "outputId": "77e04d7e-2f62-416a-f326-a4237e4b5834"
      },
      "source": [
        "df.head()"
      ],
      "execution_count": null,
      "outputs": [
        {
          "output_type": "execute_result",
          "data": {
            "text/html": [
              "<div>\n",
              "<style scoped>\n",
              "    .dataframe tbody tr th:only-of-type {\n",
              "        vertical-align: middle;\n",
              "    }\n",
              "\n",
              "    .dataframe tbody tr th {\n",
              "        vertical-align: top;\n",
              "    }\n",
              "\n",
              "    .dataframe thead th {\n",
              "        text-align: right;\n",
              "    }\n",
              "</style>\n",
              "<table border=\"1\" class=\"dataframe\">\n",
              "  <thead>\n",
              "    <tr style=\"text-align: right;\">\n",
              "      <th></th>\n",
              "      <th>fixed acidity</th>\n",
              "      <th>volatile acidity</th>\n",
              "      <th>citric acid</th>\n",
              "      <th>residual sugar</th>\n",
              "      <th>chlorides</th>\n",
              "      <th>free sulfur dioxide</th>\n",
              "      <th>total sulfur dioxide</th>\n",
              "      <th>density</th>\n",
              "      <th>pH</th>\n",
              "      <th>sulphates</th>\n",
              "      <th>alcohol</th>\n",
              "      <th>quality</th>\n",
              "    </tr>\n",
              "  </thead>\n",
              "  <tbody>\n",
              "    <tr>\n",
              "      <th>0</th>\n",
              "      <td>7.4</td>\n",
              "      <td>0.70</td>\n",
              "      <td>0.00</td>\n",
              "      <td>1.9</td>\n",
              "      <td>0.076</td>\n",
              "      <td>11.0</td>\n",
              "      <td>34.0</td>\n",
              "      <td>0.9978</td>\n",
              "      <td>3.51</td>\n",
              "      <td>0.56</td>\n",
              "      <td>9.4</td>\n",
              "      <td>5</td>\n",
              "    </tr>\n",
              "    <tr>\n",
              "      <th>1</th>\n",
              "      <td>7.8</td>\n",
              "      <td>0.88</td>\n",
              "      <td>0.00</td>\n",
              "      <td>2.6</td>\n",
              "      <td>0.098</td>\n",
              "      <td>25.0</td>\n",
              "      <td>67.0</td>\n",
              "      <td>0.9968</td>\n",
              "      <td>3.20</td>\n",
              "      <td>0.68</td>\n",
              "      <td>9.8</td>\n",
              "      <td>5</td>\n",
              "    </tr>\n",
              "    <tr>\n",
              "      <th>2</th>\n",
              "      <td>7.8</td>\n",
              "      <td>0.76</td>\n",
              "      <td>0.04</td>\n",
              "      <td>2.3</td>\n",
              "      <td>0.092</td>\n",
              "      <td>15.0</td>\n",
              "      <td>54.0</td>\n",
              "      <td>0.9970</td>\n",
              "      <td>3.26</td>\n",
              "      <td>0.65</td>\n",
              "      <td>9.8</td>\n",
              "      <td>5</td>\n",
              "    </tr>\n",
              "    <tr>\n",
              "      <th>3</th>\n",
              "      <td>11.2</td>\n",
              "      <td>0.28</td>\n",
              "      <td>0.56</td>\n",
              "      <td>1.9</td>\n",
              "      <td>0.075</td>\n",
              "      <td>17.0</td>\n",
              "      <td>60.0</td>\n",
              "      <td>0.9980</td>\n",
              "      <td>3.16</td>\n",
              "      <td>0.58</td>\n",
              "      <td>9.8</td>\n",
              "      <td>6</td>\n",
              "    </tr>\n",
              "    <tr>\n",
              "      <th>4</th>\n",
              "      <td>7.4</td>\n",
              "      <td>0.70</td>\n",
              "      <td>0.00</td>\n",
              "      <td>1.9</td>\n",
              "      <td>0.076</td>\n",
              "      <td>11.0</td>\n",
              "      <td>34.0</td>\n",
              "      <td>0.9978</td>\n",
              "      <td>3.51</td>\n",
              "      <td>0.56</td>\n",
              "      <td>9.4</td>\n",
              "      <td>5</td>\n",
              "    </tr>\n",
              "  </tbody>\n",
              "</table>\n",
              "</div>"
            ],
            "text/plain": [
              "   fixed acidity  volatile acidity  citric acid  ...  sulphates  alcohol  quality\n",
              "0            7.4              0.70         0.00  ...       0.56      9.4        5\n",
              "1            7.8              0.88         0.00  ...       0.68      9.8        5\n",
              "2            7.8              0.76         0.04  ...       0.65      9.8        5\n",
              "3           11.2              0.28         0.56  ...       0.58      9.8        6\n",
              "4            7.4              0.70         0.00  ...       0.56      9.4        5\n",
              "\n",
              "[5 rows x 12 columns]"
            ]
          },
          "metadata": {},
          "execution_count": 47
        }
      ]
    },
    {
      "cell_type": "code",
      "metadata": {
        "colab": {
          "base_uri": "https://localhost:8080/",
          "height": 142
        },
        "id": "wa3G5auIw4WU",
        "outputId": "5557f3f9-e839-4528-e149-e287f5cb43c6"
      },
      "source": [
        "df.tail(3)"
      ],
      "execution_count": null,
      "outputs": [
        {
          "output_type": "execute_result",
          "data": {
            "text/html": [
              "<div>\n",
              "<style scoped>\n",
              "    .dataframe tbody tr th:only-of-type {\n",
              "        vertical-align: middle;\n",
              "    }\n",
              "\n",
              "    .dataframe tbody tr th {\n",
              "        vertical-align: top;\n",
              "    }\n",
              "\n",
              "    .dataframe thead th {\n",
              "        text-align: right;\n",
              "    }\n",
              "</style>\n",
              "<table border=\"1\" class=\"dataframe\">\n",
              "  <thead>\n",
              "    <tr style=\"text-align: right;\">\n",
              "      <th></th>\n",
              "      <th>fixed acidity</th>\n",
              "      <th>volatile acidity</th>\n",
              "      <th>citric acid</th>\n",
              "      <th>residual sugar</th>\n",
              "      <th>chlorides</th>\n",
              "      <th>free sulfur dioxide</th>\n",
              "      <th>total sulfur dioxide</th>\n",
              "      <th>density</th>\n",
              "      <th>pH</th>\n",
              "      <th>sulphates</th>\n",
              "      <th>alcohol</th>\n",
              "      <th>quality</th>\n",
              "    </tr>\n",
              "  </thead>\n",
              "  <tbody>\n",
              "    <tr>\n",
              "      <th>1596</th>\n",
              "      <td>6.3</td>\n",
              "      <td>0.510</td>\n",
              "      <td>0.13</td>\n",
              "      <td>2.3</td>\n",
              "      <td>0.076</td>\n",
              "      <td>29.0</td>\n",
              "      <td>40.0</td>\n",
              "      <td>0.99574</td>\n",
              "      <td>3.42</td>\n",
              "      <td>0.75</td>\n",
              "      <td>11.0</td>\n",
              "      <td>6</td>\n",
              "    </tr>\n",
              "    <tr>\n",
              "      <th>1597</th>\n",
              "      <td>5.9</td>\n",
              "      <td>0.645</td>\n",
              "      <td>0.12</td>\n",
              "      <td>2.0</td>\n",
              "      <td>0.075</td>\n",
              "      <td>32.0</td>\n",
              "      <td>44.0</td>\n",
              "      <td>0.99547</td>\n",
              "      <td>3.57</td>\n",
              "      <td>0.71</td>\n",
              "      <td>10.2</td>\n",
              "      <td>5</td>\n",
              "    </tr>\n",
              "    <tr>\n",
              "      <th>1598</th>\n",
              "      <td>6.0</td>\n",
              "      <td>0.310</td>\n",
              "      <td>0.47</td>\n",
              "      <td>3.6</td>\n",
              "      <td>0.067</td>\n",
              "      <td>18.0</td>\n",
              "      <td>42.0</td>\n",
              "      <td>0.99549</td>\n",
              "      <td>3.39</td>\n",
              "      <td>0.66</td>\n",
              "      <td>11.0</td>\n",
              "      <td>6</td>\n",
              "    </tr>\n",
              "  </tbody>\n",
              "</table>\n",
              "</div>"
            ],
            "text/plain": [
              "      fixed acidity  volatile acidity  citric acid  ...  sulphates  alcohol  quality\n",
              "1596            6.3             0.510         0.13  ...       0.75     11.0        6\n",
              "1597            5.9             0.645         0.12  ...       0.71     10.2        5\n",
              "1598            6.0             0.310         0.47  ...       0.66     11.0        6\n",
              "\n",
              "[3 rows x 12 columns]"
            ]
          },
          "metadata": {},
          "execution_count": 48
        }
      ]
    },
    {
      "cell_type": "code",
      "metadata": {
        "colab": {
          "base_uri": "https://localhost:8080/"
        },
        "id": "e2J_C2EMw6c1",
        "outputId": "6d96f853-370a-4d81-f3bb-4c2c71cb4cc0"
      },
      "source": [
        "df.dtypes\n",
        "df.describe()\n",
        "df.info()\n",
        "df.shape\n",
        "len(df)"
      ],
      "execution_count": null,
      "outputs": [
        {
          "output_type": "stream",
          "name": "stdout",
          "text": [
            "<class 'pandas.core.frame.DataFrame'>\n",
            "RangeIndex: 1599 entries, 0 to 1598\n",
            "Data columns (total 12 columns):\n",
            " #   Column                Non-Null Count  Dtype  \n",
            "---  ------                --------------  -----  \n",
            " 0   fixed acidity         1599 non-null   float64\n",
            " 1   volatile acidity      1599 non-null   float64\n",
            " 2   citric acid           1599 non-null   float64\n",
            " 3   residual sugar        1599 non-null   float64\n",
            " 4   chlorides             1599 non-null   float64\n",
            " 5   free sulfur dioxide   1599 non-null   float64\n",
            " 6   total sulfur dioxide  1599 non-null   float64\n",
            " 7   density               1599 non-null   float64\n",
            " 8   pH                    1599 non-null   float64\n",
            " 9   sulphates             1599 non-null   float64\n",
            " 10  alcohol               1599 non-null   float64\n",
            " 11  quality               1599 non-null   int64  \n",
            "dtypes: float64(11), int64(1)\n",
            "memory usage: 150.0 KB\n"
          ]
        },
        {
          "output_type": "execute_result",
          "data": {
            "text/plain": [
              "1599"
            ]
          },
          "metadata": {},
          "execution_count": 49
        }
      ]
    },
    {
      "cell_type": "code",
      "metadata": {
        "colab": {
          "base_uri": "https://localhost:8080/"
        },
        "id": "qhITn_H0xATV",
        "outputId": "b491ed54-5e17-40a5-8342-1285eda8ef85"
      },
      "source": [
        "# Select a column\n",
        "df['fixed acidity'].head(2)\n",
        "\n",
        "# Select multiple columns\n",
        "df[['fixed acidity', 'volatile acidity']].head(2)\n",
        "\n",
        "# Filter by row:\n",
        "mask1 = df['fixed acidity'] >7\n",
        "df[mask1].min()\n",
        "\n",
        "df[mask1] == df[df['fixed acidity'] >7]\n",
        "\n",
        "mask2 = df['fixed acidity'].between(7,8)\n",
        "# https://pandas.pydata.org/docs/reference/api/pandas.Series.between.html\n",
        "\n",
        "df[mask2].min()\n",
        "df[mask2]['fixed acidity'].min()\n",
        "df[mask2][['fixed acidity', 'density']].min()\n",
        "\n",
        "\n",
        "mask3 = (((df['residual sugar'] >= 2.3) | (df['residual sugar'] <= 1.9)) & (df['sulphates'] < 0.7301))\n",
        "df[mask3].describe()\n",
        "\n",
        "len(df) # We need to associate our work to an object. however, it is not saved in memory"
      ],
      "execution_count": 6,
      "outputs": [
        {
          "output_type": "execute_result",
          "data": {
            "text/plain": [
              "1599"
            ]
          },
          "metadata": {},
          "execution_count": 6
        }
      ]
    },
    {
      "cell_type": "code",
      "metadata": {
        "id": "BVZsVposy0CX"
      },
      "source": [
        "def citric_acid_cat(x):\n",
        "  if x < 0.21 :\n",
        "    return 'A'\n",
        "  elif x < 0.3 :\n",
        "    return 'B'\n",
        "  else:\n",
        "    return 'C'\n",
        "\n",
        "df['citric_cat'] = df['citric acid'].apply(lambda x: citric_acid_cat(x))"
      ],
      "execution_count": 7,
      "outputs": []
    },
    {
      "cell_type": "code",
      "metadata": {
        "id": "6GbCiVdLxW8E",
        "colab": {
          "base_uri": "https://localhost:8080/",
          "height": 441
        },
        "outputId": "5f71d078-96c6-472f-b65d-25df26f1546d"
      },
      "source": [
        "mask5 = (((df['residual sugar'] >= 2.3) | (df['residual sugar'] <= 1.9)) & (df['sulphates'] < 0.7301) & (df['citric_cat'] == 'A'))\n",
        "df[mask5]\n",
        "\n",
        "\n",
        "list_cat_to_keep = ['A', 'C']\n",
        "mask6 = (((df['residual sugar'] >= 2.3) | (df['residual sugar'] <= 1.9)) & (df['sulphates'] < 0.7301) & (df['citric_cat'].isin(list_cat_to_keep)))\n",
        "df[mask6]"
      ],
      "execution_count": 8,
      "outputs": [
        {
          "output_type": "execute_result",
          "data": {
            "text/html": [
              "<div>\n",
              "<style scoped>\n",
              "    .dataframe tbody tr th:only-of-type {\n",
              "        vertical-align: middle;\n",
              "    }\n",
              "\n",
              "    .dataframe tbody tr th {\n",
              "        vertical-align: top;\n",
              "    }\n",
              "\n",
              "    .dataframe thead th {\n",
              "        text-align: right;\n",
              "    }\n",
              "</style>\n",
              "<table border=\"1\" class=\"dataframe\">\n",
              "  <thead>\n",
              "    <tr style=\"text-align: right;\">\n",
              "      <th></th>\n",
              "      <th>fixed acidity</th>\n",
              "      <th>volatile acidity</th>\n",
              "      <th>citric acid</th>\n",
              "      <th>residual sugar</th>\n",
              "      <th>chlorides</th>\n",
              "      <th>free sulfur dioxide</th>\n",
              "      <th>total sulfur dioxide</th>\n",
              "      <th>density</th>\n",
              "      <th>pH</th>\n",
              "      <th>sulphates</th>\n",
              "      <th>alcohol</th>\n",
              "      <th>quality</th>\n",
              "      <th>citric_cat</th>\n",
              "    </tr>\n",
              "  </thead>\n",
              "  <tbody>\n",
              "    <tr>\n",
              "      <th>0</th>\n",
              "      <td>7.4</td>\n",
              "      <td>0.700</td>\n",
              "      <td>0.00</td>\n",
              "      <td>1.9</td>\n",
              "      <td>0.076</td>\n",
              "      <td>11.0</td>\n",
              "      <td>34.0</td>\n",
              "      <td>0.99780</td>\n",
              "      <td>3.51</td>\n",
              "      <td>0.56</td>\n",
              "      <td>9.4</td>\n",
              "      <td>5</td>\n",
              "      <td>A</td>\n",
              "    </tr>\n",
              "    <tr>\n",
              "      <th>1</th>\n",
              "      <td>7.8</td>\n",
              "      <td>0.880</td>\n",
              "      <td>0.00</td>\n",
              "      <td>2.6</td>\n",
              "      <td>0.098</td>\n",
              "      <td>25.0</td>\n",
              "      <td>67.0</td>\n",
              "      <td>0.99680</td>\n",
              "      <td>3.20</td>\n",
              "      <td>0.68</td>\n",
              "      <td>9.8</td>\n",
              "      <td>5</td>\n",
              "      <td>A</td>\n",
              "    </tr>\n",
              "    <tr>\n",
              "      <th>2</th>\n",
              "      <td>7.8</td>\n",
              "      <td>0.760</td>\n",
              "      <td>0.04</td>\n",
              "      <td>2.3</td>\n",
              "      <td>0.092</td>\n",
              "      <td>15.0</td>\n",
              "      <td>54.0</td>\n",
              "      <td>0.99700</td>\n",
              "      <td>3.26</td>\n",
              "      <td>0.65</td>\n",
              "      <td>9.8</td>\n",
              "      <td>5</td>\n",
              "      <td>A</td>\n",
              "    </tr>\n",
              "    <tr>\n",
              "      <th>3</th>\n",
              "      <td>11.2</td>\n",
              "      <td>0.280</td>\n",
              "      <td>0.56</td>\n",
              "      <td>1.9</td>\n",
              "      <td>0.075</td>\n",
              "      <td>17.0</td>\n",
              "      <td>60.0</td>\n",
              "      <td>0.99800</td>\n",
              "      <td>3.16</td>\n",
              "      <td>0.58</td>\n",
              "      <td>9.8</td>\n",
              "      <td>6</td>\n",
              "      <td>C</td>\n",
              "    </tr>\n",
              "    <tr>\n",
              "      <th>4</th>\n",
              "      <td>7.4</td>\n",
              "      <td>0.700</td>\n",
              "      <td>0.00</td>\n",
              "      <td>1.9</td>\n",
              "      <td>0.076</td>\n",
              "      <td>11.0</td>\n",
              "      <td>34.0</td>\n",
              "      <td>0.99780</td>\n",
              "      <td>3.51</td>\n",
              "      <td>0.56</td>\n",
              "      <td>9.4</td>\n",
              "      <td>5</td>\n",
              "      <td>A</td>\n",
              "    </tr>\n",
              "    <tr>\n",
              "      <th>...</th>\n",
              "      <td>...</td>\n",
              "      <td>...</td>\n",
              "      <td>...</td>\n",
              "      <td>...</td>\n",
              "      <td>...</td>\n",
              "      <td>...</td>\n",
              "      <td>...</td>\n",
              "      <td>...</td>\n",
              "      <td>...</td>\n",
              "      <td>...</td>\n",
              "      <td>...</td>\n",
              "      <td>...</td>\n",
              "      <td>...</td>\n",
              "    </tr>\n",
              "    <tr>\n",
              "      <th>1582</th>\n",
              "      <td>6.1</td>\n",
              "      <td>0.715</td>\n",
              "      <td>0.10</td>\n",
              "      <td>2.6</td>\n",
              "      <td>0.053</td>\n",
              "      <td>13.0</td>\n",
              "      <td>27.0</td>\n",
              "      <td>0.99362</td>\n",
              "      <td>3.57</td>\n",
              "      <td>0.50</td>\n",
              "      <td>11.9</td>\n",
              "      <td>5</td>\n",
              "      <td>A</td>\n",
              "    </tr>\n",
              "    <tr>\n",
              "      <th>1587</th>\n",
              "      <td>5.8</td>\n",
              "      <td>0.610</td>\n",
              "      <td>0.11</td>\n",
              "      <td>1.8</td>\n",
              "      <td>0.066</td>\n",
              "      <td>18.0</td>\n",
              "      <td>28.0</td>\n",
              "      <td>0.99483</td>\n",
              "      <td>3.55</td>\n",
              "      <td>0.66</td>\n",
              "      <td>10.9</td>\n",
              "      <td>6</td>\n",
              "      <td>A</td>\n",
              "    </tr>\n",
              "    <tr>\n",
              "      <th>1589</th>\n",
              "      <td>6.6</td>\n",
              "      <td>0.725</td>\n",
              "      <td>0.20</td>\n",
              "      <td>7.8</td>\n",
              "      <td>0.073</td>\n",
              "      <td>29.0</td>\n",
              "      <td>79.0</td>\n",
              "      <td>0.99770</td>\n",
              "      <td>3.29</td>\n",
              "      <td>0.54</td>\n",
              "      <td>9.2</td>\n",
              "      <td>5</td>\n",
              "      <td>A</td>\n",
              "    </tr>\n",
              "    <tr>\n",
              "      <th>1591</th>\n",
              "      <td>5.4</td>\n",
              "      <td>0.740</td>\n",
              "      <td>0.09</td>\n",
              "      <td>1.7</td>\n",
              "      <td>0.089</td>\n",
              "      <td>16.0</td>\n",
              "      <td>26.0</td>\n",
              "      <td>0.99402</td>\n",
              "      <td>3.67</td>\n",
              "      <td>0.56</td>\n",
              "      <td>11.6</td>\n",
              "      <td>6</td>\n",
              "      <td>A</td>\n",
              "    </tr>\n",
              "    <tr>\n",
              "      <th>1598</th>\n",
              "      <td>6.0</td>\n",
              "      <td>0.310</td>\n",
              "      <td>0.47</td>\n",
              "      <td>3.6</td>\n",
              "      <td>0.067</td>\n",
              "      <td>18.0</td>\n",
              "      <td>42.0</td>\n",
              "      <td>0.99549</td>\n",
              "      <td>3.39</td>\n",
              "      <td>0.66</td>\n",
              "      <td>11.0</td>\n",
              "      <td>6</td>\n",
              "      <td>C</td>\n",
              "    </tr>\n",
              "  </tbody>\n",
              "</table>\n",
              "<p>750 rows × 13 columns</p>\n",
              "</div>"
            ],
            "text/plain": [
              "      fixed acidity  volatile acidity  citric acid  ...  alcohol  quality  citric_cat\n",
              "0               7.4             0.700         0.00  ...      9.4        5           A\n",
              "1               7.8             0.880         0.00  ...      9.8        5           A\n",
              "2               7.8             0.760         0.04  ...      9.8        5           A\n",
              "3              11.2             0.280         0.56  ...      9.8        6           C\n",
              "4               7.4             0.700         0.00  ...      9.4        5           A\n",
              "...             ...               ...          ...  ...      ...      ...         ...\n",
              "1582            6.1             0.715         0.10  ...     11.9        5           A\n",
              "1587            5.8             0.610         0.11  ...     10.9        6           A\n",
              "1589            6.6             0.725         0.20  ...      9.2        5           A\n",
              "1591            5.4             0.740         0.09  ...     11.6        6           A\n",
              "1598            6.0             0.310         0.47  ...     11.0        6           C\n",
              "\n",
              "[750 rows x 13 columns]"
            ]
          },
          "metadata": {},
          "execution_count": 8
        }
      ]
    },
    {
      "cell_type": "code",
      "metadata": {
        "id": "VWXGJJOswzQd"
      },
      "source": [
        "# Now let's complexify the database in order to have additional work to do later! Not important to understand\n",
        "# Educational purpose\n",
        "\n",
        "# Here I create a binary feature who will be used as target\n",
        "# We use the numpy.where function which is equivalent to a if-then-else statement\n",
        "# If df['quality'] >= 7 then df['Y']=1, else df['Y']=0\n",
        "df['Y'] = np.where(df['quality']>= 7, 1, 0)\n",
        "\n",
        "# We create as well some binary features of 'fixed acidity' & 'volatile acidity'\n",
        "df['fixed_acidity_cat'] = np.where(df['fixed acidity']<= 8, 0, 1)\n",
        "df['volatile_acidity_cat'] = np.where(df['volatile acidity']>= 0.4, 0, 1)\n",
        "\n",
        "# Here I create some duplicates rows: I do a random sample of df and then I concat them at the end of df\n",
        "temp = df.sample(n=150, random_state=893717398)\n",
        "df = df.append(temp)\n",
        "del(temp)\n",
        "df.reset_index(drop=True, inplace=True)\n",
        "\n",
        "# Here I create a new feature pH2 from pH where I had some missing values\n",
        "df['pH2'] = np.where(df['pH'].index %15 ==0, np.nan, df['pH'])\n",
        "\n",
        "# Here I create a new random feature 'acidity_other' from 'fixed acidity' and I create some missing values\n",
        "rng = np.random.default_rng(893717398)\n",
        "df = df.join(pd.Series(rng.normal(df['fixed acidity'].median(),1,len(df)), name='acidity_other'))\n",
        "df['acidity_other'] = np.where(df['acidity_other'].index %2 !=0, np.nan, df['pH'])\n",
        "\n",
        "#Here it is a function that will automatically create a feature of random dates between a defined interval\n",
        "def random_datetimes_or_dates(start, end, out_format='datetime', n=10): \n",
        "\n",
        "    '''   \n",
        "    unix timestamp is in ns by default. \n",
        "    I divide the unix time value by 10**9 to make it seconds \n",
        "    (or 24*60*60*10**9 to make it days).\n",
        "    The corresponding unit variable is passed to \n",
        "    the pd.to_datetime function. \n",
        "    Values for the (divide_by, unit) pair to select is defined by \n",
        "    the out_format parameter.\n",
        "    for 1 -> out_format='datetime'\n",
        "    for 2 -> out_format=anything else\n",
        "    '''\n",
        "    (divide_by, unit) = (10**9, 's') if out_format=='datetime' else (24*60*60*10**9, 'D')\n",
        "\n",
        "    start_u = start.value//divide_by\n",
        "    end_u = end.value//divide_by\n",
        "\n",
        "    return pd.to_datetime(np.random.randint(start_u, end_u, n), unit=unit)\n",
        "\n",
        "# Now I apply my function in order to create the new feature 'date'\n",
        "np.random.seed(893717398)\n",
        "d_start = pd.to_datetime('2021-01-01')\n",
        "d_end = pd.to_datetime('2021-06-30')\n",
        "df['date'] = random_datetimes_or_dates(d_start, d_end, out_format='datetime', n=len(df))\n",
        "df['date'] = df['date'].astype(str)\n",
        "\n",
        "## End of the complexification"
      ],
      "execution_count": 9,
      "outputs": []
    },
    {
      "cell_type": "code",
      "metadata": {
        "id": "mxc33oQ2w3kw",
        "colab": {
          "base_uri": "https://localhost:8080/"
        },
        "outputId": "43690a05-24ed-4c3d-88a8-000fc127bf55"
      },
      "source": [
        "# Have a look on the etadata of the dataframe:\n",
        "df.shape\n",
        "df.dtypes"
      ],
      "execution_count": 10,
      "outputs": [
        {
          "output_type": "execute_result",
          "data": {
            "text/plain": [
              "fixed acidity           float64\n",
              "volatile acidity        float64\n",
              "citric acid             float64\n",
              "residual sugar          float64\n",
              "chlorides               float64\n",
              "free sulfur dioxide     float64\n",
              "total sulfur dioxide    float64\n",
              "density                 float64\n",
              "pH                      float64\n",
              "sulphates               float64\n",
              "alcohol                 float64\n",
              "quality                   int64\n",
              "citric_cat               object\n",
              "Y                         int64\n",
              "fixed_acidity_cat         int64\n",
              "volatile_acidity_cat      int64\n",
              "pH2                     float64\n",
              "acidity_other           float64\n",
              "date                     object\n",
              "dtype: object"
            ]
          },
          "metadata": {},
          "execution_count": 10
        }
      ]
    },
    {
      "cell_type": "code",
      "metadata": {
        "id": "KZb-QmQ0fUrR",
        "colab": {
          "base_uri": "https://localhost:8080/"
        },
        "outputId": "6a1e8290-64f2-4965-db79-ea859f30f803"
      },
      "source": [
        "# Have a look on the describe() function applied to a categorical feature:\n",
        "df['citric_cat'].describe()"
      ],
      "execution_count": 11,
      "outputs": [
        {
          "output_type": "execute_result",
          "data": {
            "text/plain": [
              "count     1749\n",
              "unique       3\n",
              "top          C\n",
              "freq       773\n",
              "Name: citric_cat, dtype: object"
            ]
          },
          "metadata": {},
          "execution_count": 11
        }
      ]
    },
    {
      "cell_type": "code",
      "metadata": {
        "id": "8NP4nD7PfZW5"
      },
      "source": [
        "# Let's say that you want to replace the category 'C' by the category 'Z:\n",
        "df['citric_cat'] = np.where(df['citric_cat'] == 'C', 'Z', df['citric_cat'])\n",
        "# You could use as well the replace() function from pandas"
      ],
      "execution_count": 12,
      "outputs": []
    },
    {
      "cell_type": "code",
      "metadata": {
        "id": "lSP-9QRjYEeA",
        "colab": {
          "base_uri": "https://localhost:8080/"
        },
        "outputId": "ffaca14f-49c2-4654-8efb-131bb957c2a0"
      },
      "source": [
        "# One of the most useful function in order to do some counts: value_counts()\n",
        "df['citric_cat'].value_counts()\n",
        "df['citric_cat'].value_counts(True)\n",
        "np.round(df['citric_cat'].value_counts(True)*100, 2)"
      ],
      "execution_count": 13,
      "outputs": [
        {
          "output_type": "execute_result",
          "data": {
            "text/plain": [
              "Z    44.20\n",
              "A    39.62\n",
              "B    16.18\n",
              "Name: citric_cat, dtype: float64"
            ]
          },
          "metadata": {},
          "execution_count": 13
        }
      ]
    },
    {
      "cell_type": "code",
      "metadata": {
        "id": "L4SpuTxMf_sU",
        "colab": {
          "base_uri": "https://localhost:8080/"
        },
        "outputId": "5d65e8e6-1266-4d42-d1a0-b87410cc8875"
      },
      "source": [
        "# Let's see if we have some missing values (NaN for Not a Number) with the function isna():\n",
        "df.isna()\n",
        "df.isna().sum() # Sum per column\n",
        "#df.isna().sum(1) # Sum per rows\n",
        "# The treatment of missing values for a modeling purpose will be in another session"
      ],
      "execution_count": 14,
      "outputs": [
        {
          "output_type": "execute_result",
          "data": {
            "text/plain": [
              "fixed acidity             0\n",
              "volatile acidity          0\n",
              "citric acid               0\n",
              "residual sugar            0\n",
              "chlorides                 0\n",
              "free sulfur dioxide       0\n",
              "total sulfur dioxide      0\n",
              "density                   0\n",
              "pH                        0\n",
              "sulphates                 0\n",
              "alcohol                   0\n",
              "quality                   0\n",
              "citric_cat                0\n",
              "Y                         0\n",
              "fixed_acidity_cat         0\n",
              "volatile_acidity_cat      0\n",
              "pH2                     117\n",
              "acidity_other           874\n",
              "date                      0\n",
              "dtype: int64"
            ]
          },
          "metadata": {},
          "execution_count": 14
        }
      ]
    },
    {
      "cell_type": "code",
      "metadata": {
        "id": "bvwP3-zigCJ0",
        "colab": {
          "base_uri": "https://localhost:8080/"
        },
        "outputId": "3523f3c9-b068-41ab-9a74-db9252ab6afa"
      },
      "source": [
        "# Let's parsing some date.\n",
        "# Parsing a date means to make a date understandable by a computer. Without parsing, it is \n",
        "# considered as a chain of character.\n",
        "df['date'].head(3)\n",
        "df['date'] = pd.to_datetime(df['date'], format= '%Y-%m-%d %H:%M:%S') # -> ALWAYS specify the format! <-\n",
        "# For all the existing formats:\n",
        "# https://docs.python.org/3/library/datetime.html#strftime-and-strptime-behavior\n",
        "\n",
        "# Now we can work with the date feature in order to create a duration\n",
        "today = pd.to_datetime('2021-10-12', format = '%Y-%m-%d')\n",
        "today\n",
        "df['time_diff'] = today - df['date']\n",
        "df['time_diff'].head(3)\n",
        "df.dtypes\n",
        "# We can as well transform the timedelta in a numerical form:\n",
        "df['day_diff'] = (df['time_diff']/np.timedelta64(1, 'D')).astype(float)\n",
        "df['day_diff']"
      ],
      "execution_count": 15,
      "outputs": [
        {
          "output_type": "execute_result",
          "data": {
            "text/plain": [
              "0       278.389861\n",
              "1       246.658681\n",
              "2       106.482338\n",
              "3       117.773866\n",
              "4       264.576204\n",
              "           ...    \n",
              "1744    229.515891\n",
              "1745    122.306586\n",
              "1746    130.300637\n",
              "1747    223.381343\n",
              "1748    205.710289\n",
              "Name: day_diff, Length: 1749, dtype: float64"
            ]
          },
          "metadata": {},
          "execution_count": 15
        }
      ]
    },
    {
      "cell_type": "code",
      "metadata": {
        "id": "bv7rNwFLxYdO"
      },
      "source": [
        "# Now let's pratice some merges\n",
        "# First, let's create a new database randomf1 & randomf2:\n",
        "np.random.seed(893717398)\n",
        "randomf1 = pd.Series(np.random.normal(0, 1, len(df)), name='Random_Normal_feature1')\n",
        "randomf2 = pd.Series(np.random.normal(1, 0.5, len(df)), name='Random_Normal_feature2')\n",
        "\n",
        "# First way to do a merge: Doing a concatenation\n",
        "# Be careful because it has some limitation!!!!\n",
        "# You need to be sure at 100% that each rows of the 2 database to concat are referring to the same observation!!\n",
        "randomf = pd.concat([randomf1, randomf2], axis=1, ignore_index=True)\n",
        "randomf.columns = ['Random_Normal_feature1', 'Random_Normal_feature2']\n",
        "\n",
        "# Here I create a a new feature in df that will be used as key:\n",
        "np.random.seed(893717398)\n",
        "df['Random_Normal_feature1'] = pd.Series(np.random.normal(0, 1, len(df)), name='Random_Normal_feature1')\n",
        "\n",
        "# Second way to do a merge: Using the merge function:\n",
        "df = df.merge(randomf, how='inner', on='Random_Normal_feature1')\n",
        "# Have a look on the documentation to see all the possibilities"
      ],
      "execution_count": 16,
      "outputs": []
    },
    {
      "cell_type": "code",
      "metadata": {
        "colab": {
          "base_uri": "https://localhost:8080/",
          "height": 613
        },
        "id": "TE6SiAWexCx3",
        "outputId": "0c1cd425-5f4e-4dbb-9f9e-3a06f0d460c9"
      },
      "source": [
        "# We can easily do some agregations of features through a groupby:\n",
        "df.groupby('citric_cat')['quality'].mean()\n",
        "df.groupby(['citric_cat', 'quality'])[['sulphates', 'fixed acidity']].mean()"
      ],
      "execution_count": 17,
      "outputs": [
        {
          "output_type": "execute_result",
          "data": {
            "text/html": [
              "<div>\n",
              "<style scoped>\n",
              "    .dataframe tbody tr th:only-of-type {\n",
              "        vertical-align: middle;\n",
              "    }\n",
              "\n",
              "    .dataframe tbody tr th {\n",
              "        vertical-align: top;\n",
              "    }\n",
              "\n",
              "    .dataframe thead th {\n",
              "        text-align: right;\n",
              "    }\n",
              "</style>\n",
              "<table border=\"1\" class=\"dataframe\">\n",
              "  <thead>\n",
              "    <tr style=\"text-align: right;\">\n",
              "      <th></th>\n",
              "      <th></th>\n",
              "      <th>sulphates</th>\n",
              "      <th>fixed acidity</th>\n",
              "    </tr>\n",
              "    <tr>\n",
              "      <th>citric_cat</th>\n",
              "      <th>quality</th>\n",
              "      <th></th>\n",
              "      <th></th>\n",
              "    </tr>\n",
              "  </thead>\n",
              "  <tbody>\n",
              "    <tr>\n",
              "      <th rowspan=\"6\" valign=\"top\">A</th>\n",
              "      <th>3</th>\n",
              "      <td>0.520000</td>\n",
              "      <td>7.314286</td>\n",
              "    </tr>\n",
              "    <tr>\n",
              "      <th>4</th>\n",
              "      <td>0.558684</td>\n",
              "      <td>7.076316</td>\n",
              "    </tr>\n",
              "    <tr>\n",
              "      <th>5</th>\n",
              "      <td>0.575152</td>\n",
              "      <td>7.321646</td>\n",
              "    </tr>\n",
              "    <tr>\n",
              "      <th>6</th>\n",
              "      <td>0.634432</td>\n",
              "      <td>7.208791</td>\n",
              "    </tr>\n",
              "    <tr>\n",
              "      <th>7</th>\n",
              "      <td>0.705000</td>\n",
              "      <td>6.679545</td>\n",
              "    </tr>\n",
              "    <tr>\n",
              "      <th>8</th>\n",
              "      <td>0.793333</td>\n",
              "      <td>6.300000</td>\n",
              "    </tr>\n",
              "    <tr>\n",
              "      <th rowspan=\"5\" valign=\"top\">B</th>\n",
              "      <th>4</th>\n",
              "      <td>0.528750</td>\n",
              "      <td>8.362500</td>\n",
              "    </tr>\n",
              "    <tr>\n",
              "      <th>5</th>\n",
              "      <td>0.615679</td>\n",
              "      <td>7.991975</td>\n",
              "    </tr>\n",
              "    <tr>\n",
              "      <th>6</th>\n",
              "      <td>0.680467</td>\n",
              "      <td>7.885047</td>\n",
              "    </tr>\n",
              "    <tr>\n",
              "      <th>7</th>\n",
              "      <td>0.582000</td>\n",
              "      <td>6.860000</td>\n",
              "    </tr>\n",
              "    <tr>\n",
              "      <th>8</th>\n",
              "      <td>0.740000</td>\n",
              "      <td>5.000000</td>\n",
              "    </tr>\n",
              "    <tr>\n",
              "      <th rowspan=\"6\" valign=\"top\">Z</th>\n",
              "      <th>3</th>\n",
              "      <td>0.672500</td>\n",
              "      <td>10.700000</td>\n",
              "    </tr>\n",
              "    <tr>\n",
              "      <th>4</th>\n",
              "      <td>0.703846</td>\n",
              "      <td>9.569231</td>\n",
              "    </tr>\n",
              "    <tr>\n",
              "      <th>5</th>\n",
              "      <td>0.675591</td>\n",
              "      <td>9.347244</td>\n",
              "    </tr>\n",
              "    <tr>\n",
              "      <th>6</th>\n",
              "      <td>0.709063</td>\n",
              "      <td>9.430937</td>\n",
              "    </tr>\n",
              "    <tr>\n",
              "      <th>7</th>\n",
              "      <td>0.755090</td>\n",
              "      <td>9.550299</td>\n",
              "    </tr>\n",
              "    <tr>\n",
              "      <th>8</th>\n",
              "      <td>0.774667</td>\n",
              "      <td>9.313333</td>\n",
              "    </tr>\n",
              "  </tbody>\n",
              "</table>\n",
              "</div>"
            ],
            "text/plain": [
              "                    sulphates  fixed acidity\n",
              "citric_cat quality                          \n",
              "A          3         0.520000       7.314286\n",
              "           4         0.558684       7.076316\n",
              "           5         0.575152       7.321646\n",
              "           6         0.634432       7.208791\n",
              "           7         0.705000       6.679545\n",
              "           8         0.793333       6.300000\n",
              "B          4         0.528750       8.362500\n",
              "           5         0.615679       7.991975\n",
              "           6         0.680467       7.885047\n",
              "           7         0.582000       6.860000\n",
              "           8         0.740000       5.000000\n",
              "Z          3         0.672500      10.700000\n",
              "           4         0.703846       9.569231\n",
              "           5         0.675591       9.347244\n",
              "           6         0.709063       9.430937\n",
              "           7         0.755090       9.550299\n",
              "           8         0.774667       9.313333"
            ]
          },
          "metadata": {},
          "execution_count": 17
        }
      ]
    },
    {
      "cell_type": "code",
      "metadata": {
        "id": "zivFR5WX82Xg",
        "colab": {
          "base_uri": "https://localhost:8080/",
          "height": 269
        },
        "outputId": "4388815d-27ee-47aa-aa96-c9615835eb60"
      },
      "source": [
        "# Last element very useful in data manipulation is the pivot table:\n",
        "pd.pivot_table(df, values='sulphates', index=['Y', 'quality'],\n",
        "                    columns=['citric_cat'], aggfunc=np.mean)\n",
        "# Go to see the documentation for additional details"
      ],
      "execution_count": 18,
      "outputs": [
        {
          "output_type": "execute_result",
          "data": {
            "text/html": [
              "<div>\n",
              "<style scoped>\n",
              "    .dataframe tbody tr th:only-of-type {\n",
              "        vertical-align: middle;\n",
              "    }\n",
              "\n",
              "    .dataframe tbody tr th {\n",
              "        vertical-align: top;\n",
              "    }\n",
              "\n",
              "    .dataframe thead th {\n",
              "        text-align: right;\n",
              "    }\n",
              "</style>\n",
              "<table border=\"1\" class=\"dataframe\">\n",
              "  <thead>\n",
              "    <tr style=\"text-align: right;\">\n",
              "      <th></th>\n",
              "      <th>citric_cat</th>\n",
              "      <th>A</th>\n",
              "      <th>B</th>\n",
              "      <th>Z</th>\n",
              "    </tr>\n",
              "    <tr>\n",
              "      <th>Y</th>\n",
              "      <th>quality</th>\n",
              "      <th></th>\n",
              "      <th></th>\n",
              "      <th></th>\n",
              "    </tr>\n",
              "  </thead>\n",
              "  <tbody>\n",
              "    <tr>\n",
              "      <th rowspan=\"4\" valign=\"top\">0</th>\n",
              "      <th>3</th>\n",
              "      <td>0.520000</td>\n",
              "      <td>NaN</td>\n",
              "      <td>0.672500</td>\n",
              "    </tr>\n",
              "    <tr>\n",
              "      <th>4</th>\n",
              "      <td>0.558684</td>\n",
              "      <td>0.528750</td>\n",
              "      <td>0.703846</td>\n",
              "    </tr>\n",
              "    <tr>\n",
              "      <th>5</th>\n",
              "      <td>0.575152</td>\n",
              "      <td>0.615679</td>\n",
              "      <td>0.675591</td>\n",
              "    </tr>\n",
              "    <tr>\n",
              "      <th>6</th>\n",
              "      <td>0.634432</td>\n",
              "      <td>0.680467</td>\n",
              "      <td>0.709063</td>\n",
              "    </tr>\n",
              "    <tr>\n",
              "      <th rowspan=\"2\" valign=\"top\">1</th>\n",
              "      <th>7</th>\n",
              "      <td>0.705000</td>\n",
              "      <td>0.582000</td>\n",
              "      <td>0.755090</td>\n",
              "    </tr>\n",
              "    <tr>\n",
              "      <th>8</th>\n",
              "      <td>0.793333</td>\n",
              "      <td>0.740000</td>\n",
              "      <td>0.774667</td>\n",
              "    </tr>\n",
              "  </tbody>\n",
              "</table>\n",
              "</div>"
            ],
            "text/plain": [
              "citric_cat         A         B         Z\n",
              "Y quality                               \n",
              "0 3         0.520000       NaN  0.672500\n",
              "  4         0.558684  0.528750  0.703846\n",
              "  5         0.575152  0.615679  0.675591\n",
              "  6         0.634432  0.680467  0.709063\n",
              "1 7         0.705000  0.582000  0.755090\n",
              "  8         0.793333  0.740000  0.774667"
            ]
          },
          "metadata": {},
          "execution_count": 18
        }
      ]
    },
    {
      "cell_type": "code",
      "metadata": {
        "id": "QLRjpVXExC14"
      },
      "source": [
        "# End of the data manipulation part with pandas and numpy !\n",
        "# Now you have the basis to manipulate every databases and to agregate or to obtain summary statistics"
      ],
      "execution_count": 19,
      "outputs": []
    },
    {
      "cell_type": "code",
      "metadata": {
        "id": "bKfgHMfNN37l"
      },
      "source": [
        "# Start of the Data Visualization\n",
        "# Let's import new packages:\n",
        "import matplotlib.pyplot as plt\n",
        "from matplotlib.patches import Patch\n",
        "from matplotlib.lines import Line2D\n",
        "import matplotlib.dates as mdates\n",
        "import seaborn as sns"
      ],
      "execution_count": 3,
      "outputs": []
    },
    {
      "cell_type": "code",
      "metadata": {
        "id": "lZsZ0__wN3_E",
        "outputId": "2b66e70f-34d9-4ad2-a1b7-de5936cd52b5",
        "colab": {
          "base_uri": "https://localhost:8080/",
          "height": 143
        }
      },
      "source": [
        "# Bar plot\n",
        "# Let's represent visually the median wine quality by citric_cat\n",
        "# First: represent the database:\n",
        "df_barplot = pd.DataFrame(df.groupby('citric_cat')['quality'].median()).reset_index() # Citric_cat\n",
        "# is an ordered feature, so we will not change the order in the plot\n",
        "df_barplot"
      ],
      "execution_count": 30,
      "outputs": [
        {
          "output_type": "execute_result",
          "data": {
            "text/html": [
              "<div>\n",
              "<style scoped>\n",
              "    .dataframe tbody tr th:only-of-type {\n",
              "        vertical-align: middle;\n",
              "    }\n",
              "\n",
              "    .dataframe tbody tr th {\n",
              "        vertical-align: top;\n",
              "    }\n",
              "\n",
              "    .dataframe thead th {\n",
              "        text-align: right;\n",
              "    }\n",
              "</style>\n",
              "<table border=\"1\" class=\"dataframe\">\n",
              "  <thead>\n",
              "    <tr style=\"text-align: right;\">\n",
              "      <th></th>\n",
              "      <th>citric_cat</th>\n",
              "      <th>quality</th>\n",
              "    </tr>\n",
              "  </thead>\n",
              "  <tbody>\n",
              "    <tr>\n",
              "      <th>0</th>\n",
              "      <td>A</td>\n",
              "      <td>5</td>\n",
              "    </tr>\n",
              "    <tr>\n",
              "      <th>1</th>\n",
              "      <td>B</td>\n",
              "      <td>5</td>\n",
              "    </tr>\n",
              "    <tr>\n",
              "      <th>2</th>\n",
              "      <td>Z</td>\n",
              "      <td>6</td>\n",
              "    </tr>\n",
              "  </tbody>\n",
              "</table>\n",
              "</div>"
            ],
            "text/plain": [
              "  citric_cat  quality\n",
              "0          A        5\n",
              "1          B        5\n",
              "2          Z        6"
            ]
          },
          "metadata": {},
          "execution_count": 30
        }
      ]
    },
    {
      "cell_type": "code",
      "metadata": {
        "id": "kdG3yJ4AQanP",
        "outputId": "42447fb2-2458-40f4-d665-f173083e2972",
        "colab": {
          "base_uri": "https://localhost:8080/",
          "height": 265
        }
      },
      "source": [
        "# We need to define a figure and a Axes:\n",
        "fig1, ax = plt.subplots() # It always starts like this\n",
        "# Define the kind of visualization you want, here it's a bar plot\n",
        "ax.bar(x= df_barplot['citric_cat'], height=df_barplot['quality'])\n",
        "plt.show()"
      ],
      "execution_count": 26,
      "outputs": [
        {
          "output_type": "display_data",
          "data": {
            "image/png": "[encoded data removed]",
            "text/plain": [
              "<Figure size 432x288 with 1 Axes>"
            ]
          },
          "metadata": {
            "needs_background": "light"
          }
        }
      ]
    },
    {
      "cell_type": "code",
      "metadata": {
        "id": "RnYyZwixQbWC",
        "outputId": "a693b3bd-ae1a-4581-ae28-c09bc4bcb29e",
        "colab": {
          "base_uri": "https://localhost:8080/",
          "height": 304
        }
      },
      "source": [
        "# Let's add a horizontal line showing the median quality off all wines\n",
        "med_quality = df['quality'].median()\n",
        "\n",
        "fig1, ax = plt.subplots()\n",
        "ax.bar(x= df_barplot['citric_cat'], height=df_barplot['quality'])\n",
        "ax.axhline(y=med_quality, color='#058ED9')\n",
        "ax.set_title('Median quality by citric_cat', loc='center', fontsize=16)\n",
        "ax.set_ylabel('Median quality', fontsize = 15)\n",
        "ax.set_xlabel('citric_cat', fontsize=15)\n",
        "plt.show()"
      ],
      "execution_count": 36,
      "outputs": [
        {
          "output_type": "display_data",
          "data": {
            "image/png": "[encoded data removed]",
            "text/plain": [
              "<Figure size 432x288 with 1 Axes>"
            ]
          },
          "metadata": {
            "needs_background": "light"
          }
        }
      ]
    },
    {
      "cell_type": "code",
      "metadata": {
        "id": "NyJYKRO6QbYl"
      },
      "source": [
        ""
      ],
      "execution_count": null,
      "outputs": []
    },
    {
      "cell_type": "code",
      "metadata": {
        "id": "Z00EsZqJQbb-"
      },
      "source": [
        ""
      ],
      "execution_count": null,
      "outputs": []
    },
    {
      "cell_type": "code",
      "metadata": {
        "id": "-wBA8bisOZ_D",
        "outputId": "8ffb557a-1ca8-4c14-d84c-9a2aea240de1",
        "colab": {
          "base_uri": "https://localhost:8080/",
          "height": 825
        }
      },
      "source": [
        "df"
      ],
      "execution_count": 20,
      "outputs": [
        {
          "output_type": "execute_result",
          "data": {
            "text/html": [
              "<div>\n",
              "<style scoped>\n",
              "    .dataframe tbody tr th:only-of-type {\n",
              "        vertical-align: middle;\n",
              "    }\n",
              "\n",
              "    .dataframe tbody tr th {\n",
              "        vertical-align: top;\n",
              "    }\n",
              "\n",
              "    .dataframe thead th {\n",
              "        text-align: right;\n",
              "    }\n",
              "</style>\n",
              "<table border=\"1\" class=\"dataframe\">\n",
              "  <thead>\n",
              "    <tr style=\"text-align: right;\">\n",
              "      <th></th>\n",
              "      <th>fixed acidity</th>\n",
              "      <th>volatile acidity</th>\n",
              "      <th>citric acid</th>\n",
              "      <th>residual sugar</th>\n",
              "      <th>chlorides</th>\n",
              "      <th>free sulfur dioxide</th>\n",
              "      <th>total sulfur dioxide</th>\n",
              "      <th>density</th>\n",
              "      <th>pH</th>\n",
              "      <th>sulphates</th>\n",
              "      <th>alcohol</th>\n",
              "      <th>quality</th>\n",
              "      <th>citric_cat</th>\n",
              "      <th>Y</th>\n",
              "      <th>fixed_acidity_cat</th>\n",
              "      <th>volatile_acidity_cat</th>\n",
              "      <th>pH2</th>\n",
              "      <th>acidity_other</th>\n",
              "      <th>date</th>\n",
              "      <th>time_diff</th>\n",
              "      <th>day_diff</th>\n",
              "      <th>Random_Normal_feature1</th>\n",
              "      <th>Random_Normal_feature2</th>\n",
              "    </tr>\n",
              "  </thead>\n",
              "  <tbody>\n",
              "    <tr>\n",
              "      <th>0</th>\n",
              "      <td>7.4</td>\n",
              "      <td>0.70</td>\n",
              "      <td>0.00</td>\n",
              "      <td>1.9</td>\n",
              "      <td>0.076</td>\n",
              "      <td>11.0</td>\n",
              "      <td>34.0</td>\n",
              "      <td>0.99780</td>\n",
              "      <td>3.51</td>\n",
              "      <td>0.56</td>\n",
              "      <td>9.4</td>\n",
              "      <td>5</td>\n",
              "      <td>A</td>\n",
              "      <td>0</td>\n",
              "      <td>0</td>\n",
              "      <td>0</td>\n",
              "      <td>NaN</td>\n",
              "      <td>3.51</td>\n",
              "      <td>2021-01-06 14:38:36</td>\n",
              "      <td>278 days 09:21:24</td>\n",
              "      <td>278.389861</td>\n",
              "      <td>-1.631267</td>\n",
              "      <td>1.407202</td>\n",
              "    </tr>\n",
              "    <tr>\n",
              "      <th>1</th>\n",
              "      <td>7.8</td>\n",
              "      <td>0.88</td>\n",
              "      <td>0.00</td>\n",
              "      <td>2.6</td>\n",
              "      <td>0.098</td>\n",
              "      <td>25.0</td>\n",
              "      <td>67.0</td>\n",
              "      <td>0.99680</td>\n",
              "      <td>3.20</td>\n",
              "      <td>0.68</td>\n",
              "      <td>9.8</td>\n",
              "      <td>5</td>\n",
              "      <td>A</td>\n",
              "      <td>0</td>\n",
              "      <td>0</td>\n",
              "      <td>0</td>\n",
              "      <td>3.20</td>\n",
              "      <td>NaN</td>\n",
              "      <td>2021-02-07 08:11:30</td>\n",
              "      <td>246 days 15:48:30</td>\n",
              "      <td>246.658681</td>\n",
              "      <td>1.047653</td>\n",
              "      <td>1.086529</td>\n",
              "    </tr>\n",
              "    <tr>\n",
              "      <th>2</th>\n",
              "      <td>7.8</td>\n",
              "      <td>0.76</td>\n",
              "      <td>0.04</td>\n",
              "      <td>2.3</td>\n",
              "      <td>0.092</td>\n",
              "      <td>15.0</td>\n",
              "      <td>54.0</td>\n",
              "      <td>0.99700</td>\n",
              "      <td>3.26</td>\n",
              "      <td>0.65</td>\n",
              "      <td>9.8</td>\n",
              "      <td>5</td>\n",
              "      <td>A</td>\n",
              "      <td>0</td>\n",
              "      <td>0</td>\n",
              "      <td>0</td>\n",
              "      <td>3.26</td>\n",
              "      <td>3.26</td>\n",
              "      <td>2021-06-27 12:25:26</td>\n",
              "      <td>106 days 11:34:34</td>\n",
              "      <td>106.482338</td>\n",
              "      <td>-0.226178</td>\n",
              "      <td>0.852965</td>\n",
              "    </tr>\n",
              "    <tr>\n",
              "      <th>3</th>\n",
              "      <td>11.2</td>\n",
              "      <td>0.28</td>\n",
              "      <td>0.56</td>\n",
              "      <td>1.9</td>\n",
              "      <td>0.075</td>\n",
              "      <td>17.0</td>\n",
              "      <td>60.0</td>\n",
              "      <td>0.99800</td>\n",
              "      <td>3.16</td>\n",
              "      <td>0.58</td>\n",
              "      <td>9.8</td>\n",
              "      <td>6</td>\n",
              "      <td>Z</td>\n",
              "      <td>0</td>\n",
              "      <td>1</td>\n",
              "      <td>1</td>\n",
              "      <td>3.16</td>\n",
              "      <td>NaN</td>\n",
              "      <td>2021-06-16 05:25:38</td>\n",
              "      <td>117 days 18:34:22</td>\n",
              "      <td>117.773866</td>\n",
              "      <td>-0.930432</td>\n",
              "      <td>0.634562</td>\n",
              "    </tr>\n",
              "    <tr>\n",
              "      <th>4</th>\n",
              "      <td>7.4</td>\n",
              "      <td>0.70</td>\n",
              "      <td>0.00</td>\n",
              "      <td>1.9</td>\n",
              "      <td>0.076</td>\n",
              "      <td>11.0</td>\n",
              "      <td>34.0</td>\n",
              "      <td>0.99780</td>\n",
              "      <td>3.51</td>\n",
              "      <td>0.56</td>\n",
              "      <td>9.4</td>\n",
              "      <td>5</td>\n",
              "      <td>A</td>\n",
              "      <td>0</td>\n",
              "      <td>0</td>\n",
              "      <td>0</td>\n",
              "      <td>3.51</td>\n",
              "      <td>3.51</td>\n",
              "      <td>2021-01-20 10:10:16</td>\n",
              "      <td>264 days 13:49:44</td>\n",
              "      <td>264.576204</td>\n",
              "      <td>-0.047275</td>\n",
              "      <td>1.816503</td>\n",
              "    </tr>\n",
              "    <tr>\n",
              "      <th>...</th>\n",
              "      <td>...</td>\n",
              "      <td>...</td>\n",
              "      <td>...</td>\n",
              "      <td>...</td>\n",
              "      <td>...</td>\n",
              "      <td>...</td>\n",
              "      <td>...</td>\n",
              "      <td>...</td>\n",
              "      <td>...</td>\n",
              "      <td>...</td>\n",
              "      <td>...</td>\n",
              "      <td>...</td>\n",
              "      <td>...</td>\n",
              "      <td>...</td>\n",
              "      <td>...</td>\n",
              "      <td>...</td>\n",
              "      <td>...</td>\n",
              "      <td>...</td>\n",
              "      <td>...</td>\n",
              "      <td>...</td>\n",
              "      <td>...</td>\n",
              "      <td>...</td>\n",
              "      <td>...</td>\n",
              "    </tr>\n",
              "    <tr>\n",
              "      <th>1744</th>\n",
              "      <td>9.8</td>\n",
              "      <td>0.34</td>\n",
              "      <td>0.39</td>\n",
              "      <td>1.4</td>\n",
              "      <td>0.066</td>\n",
              "      <td>3.0</td>\n",
              "      <td>7.0</td>\n",
              "      <td>0.99470</td>\n",
              "      <td>3.19</td>\n",
              "      <td>0.55</td>\n",
              "      <td>11.4</td>\n",
              "      <td>7</td>\n",
              "      <td>Z</td>\n",
              "      <td>1</td>\n",
              "      <td>1</td>\n",
              "      <td>1</td>\n",
              "      <td>3.19</td>\n",
              "      <td>3.19</td>\n",
              "      <td>2021-02-24 11:37:07</td>\n",
              "      <td>229 days 12:22:53</td>\n",
              "      <td>229.515891</td>\n",
              "      <td>1.320290</td>\n",
              "      <td>0.899144</td>\n",
              "    </tr>\n",
              "    <tr>\n",
              "      <th>1745</th>\n",
              "      <td>7.3</td>\n",
              "      <td>0.67</td>\n",
              "      <td>0.02</td>\n",
              "      <td>2.2</td>\n",
              "      <td>0.072</td>\n",
              "      <td>31.0</td>\n",
              "      <td>92.0</td>\n",
              "      <td>0.99566</td>\n",
              "      <td>3.32</td>\n",
              "      <td>0.68</td>\n",
              "      <td>11.1</td>\n",
              "      <td>6</td>\n",
              "      <td>A</td>\n",
              "      <td>0</td>\n",
              "      <td>0</td>\n",
              "      <td>0</td>\n",
              "      <td>3.32</td>\n",
              "      <td>NaN</td>\n",
              "      <td>2021-06-11 16:38:31</td>\n",
              "      <td>122 days 07:21:29</td>\n",
              "      <td>122.306586</td>\n",
              "      <td>0.311190</td>\n",
              "      <td>0.637923</td>\n",
              "    </tr>\n",
              "    <tr>\n",
              "      <th>1746</th>\n",
              "      <td>8.3</td>\n",
              "      <td>0.42</td>\n",
              "      <td>0.38</td>\n",
              "      <td>2.5</td>\n",
              "      <td>0.094</td>\n",
              "      <td>24.0</td>\n",
              "      <td>60.0</td>\n",
              "      <td>0.99790</td>\n",
              "      <td>3.31</td>\n",
              "      <td>0.70</td>\n",
              "      <td>10.8</td>\n",
              "      <td>6</td>\n",
              "      <td>Z</td>\n",
              "      <td>0</td>\n",
              "      <td>1</td>\n",
              "      <td>0</td>\n",
              "      <td>3.31</td>\n",
              "      <td>3.31</td>\n",
              "      <td>2021-06-03 16:47:05</td>\n",
              "      <td>130 days 07:12:55</td>\n",
              "      <td>130.300637</td>\n",
              "      <td>-2.410861</td>\n",
              "      <td>0.235571</td>\n",
              "    </tr>\n",
              "    <tr>\n",
              "      <th>1747</th>\n",
              "      <td>11.9</td>\n",
              "      <td>0.39</td>\n",
              "      <td>0.69</td>\n",
              "      <td>2.8</td>\n",
              "      <td>0.095</td>\n",
              "      <td>17.0</td>\n",
              "      <td>35.0</td>\n",
              "      <td>0.99940</td>\n",
              "      <td>3.10</td>\n",
              "      <td>0.61</td>\n",
              "      <td>10.8</td>\n",
              "      <td>6</td>\n",
              "      <td>Z</td>\n",
              "      <td>0</td>\n",
              "      <td>1</td>\n",
              "      <td>1</td>\n",
              "      <td>3.10</td>\n",
              "      <td>NaN</td>\n",
              "      <td>2021-03-02 14:50:52</td>\n",
              "      <td>223 days 09:09:08</td>\n",
              "      <td>223.381343</td>\n",
              "      <td>-1.779215</td>\n",
              "      <td>1.310266</td>\n",
              "    </tr>\n",
              "    <tr>\n",
              "      <th>1748</th>\n",
              "      <td>8.3</td>\n",
              "      <td>0.26</td>\n",
              "      <td>0.42</td>\n",
              "      <td>2.0</td>\n",
              "      <td>0.080</td>\n",
              "      <td>11.0</td>\n",
              "      <td>27.0</td>\n",
              "      <td>0.99740</td>\n",
              "      <td>3.21</td>\n",
              "      <td>0.80</td>\n",
              "      <td>9.4</td>\n",
              "      <td>6</td>\n",
              "      <td>Z</td>\n",
              "      <td>0</td>\n",
              "      <td>1</td>\n",
              "      <td>1</td>\n",
              "      <td>3.21</td>\n",
              "      <td>3.21</td>\n",
              "      <td>2021-03-20 06:57:11</td>\n",
              "      <td>205 days 17:02:49</td>\n",
              "      <td>205.710289</td>\n",
              "      <td>0.365288</td>\n",
              "      <td>1.075226</td>\n",
              "    </tr>\n",
              "  </tbody>\n",
              "</table>\n",
              "<p>1749 rows × 23 columns</p>\n",
              "</div>"
            ],
            "text/plain": [
              "      fixed acidity  ...  Random_Normal_feature2\n",
              "0               7.4  ...                1.407202\n",
              "1               7.8  ...                1.086529\n",
              "2               7.8  ...                0.852965\n",
              "3              11.2  ...                0.634562\n",
              "4               7.4  ...                1.816503\n",
              "...             ...  ...                     ...\n",
              "1744            9.8  ...                0.899144\n",
              "1745            7.3  ...                0.637923\n",
              "1746            8.3  ...                0.235571\n",
              "1747           11.9  ...                1.310266\n",
              "1748            8.3  ...                1.075226\n",
              "\n",
              "[1749 rows x 23 columns]"
            ]
          },
          "metadata": {},
          "execution_count": 20
        }
      ]
    },
    {
      "cell_type": "code",
      "metadata": {
        "id": "OBUF5QPeOaCv"
      },
      "source": [
        ""
      ],
      "execution_count": null,
      "outputs": []
    },
    {
      "cell_type": "code",
      "metadata": {
        "id": "xdtC7eZhkTTN"
      },
      "source": [
        ""
      ],
      "execution_count": null,
      "outputs": []
    },
    {
      "cell_type": "code",
      "metadata": {
        "colab": {
          "base_uri": "https://localhost:8080/",
          "height": 296
        },
        "id": "UPhX9Np_rrMm",
        "outputId": "85da37cb-049a-4002-e071-864b4a041c86"
      },
      "source": [
        "sns.scatterplot(data=df, x=\"pH\", y=\"fixed acidity\")"
      ],
      "execution_count": null,
      "outputs": [
        {
          "output_type": "execute_result",
          "data": {
            "text/plain": [
              "<matplotlib.axes._subplots.AxesSubplot at 0x7fe912f5d990>"
            ]
          },
          "metadata": {},
          "execution_count": 19
        },
        {
          "output_type": "display_data",
          "data": {
            "image/png": "[encoded data removed]",
            "text/plain": [
              "<Figure size 432x288 with 1 Axes>"
            ]
          },
          "metadata": {
            "needs_background": "light"
          }
        }
      ]
    },
    {
      "cell_type": "code",
      "metadata": {
        "id": "zrHDTQQFr8I9"
      },
      "source": [
        ""
      ],
      "execution_count": null,
      "outputs": []
    }
  ]
}